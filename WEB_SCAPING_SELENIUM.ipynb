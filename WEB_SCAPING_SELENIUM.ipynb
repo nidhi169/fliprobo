{
 "cells": [
  {
   "cell_type": "code",
   "execution_count": 1,
   "metadata": {},
   "outputs": [
    {
     "name": "stdout",
     "output_type": "stream",
     "text": [
      "Requirement already satisfied: selenium in c:\\users\\rashi\\anaconda3\\new folder\\lib\\site-packages (3.141.0)\n",
      "Requirement already satisfied: urllib3 in c:\\users\\rashi\\anaconda3\\new folder\\lib\\site-packages (from selenium) (1.25.11)\n"
     ]
    }
   ],
   "source": [
    "!pip install selenium "
   ]
  },
  {
   "cell_type": "code",
   "execution_count": 2,
   "metadata": {},
   "outputs": [],
   "source": [
    "import selenium\n",
    "import pandas as pd\n",
    "from selenium import webdriver\n",
    "import time\n",
    "from selenium.common.exceptions import StaleElementReferenceException, NoSuchElementException"
   ]
  },
  {
   "cell_type": "code",
   "execution_count": 3,
   "metadata": {},
   "outputs": [],
   "source": [
    "driver = webdriver.Chrome(r\"C:\\Users\\rashi\\Downloads\\chromedriver_win32 (1)\\chromedriver.exe\")"
   ]
  },
  {
   "cell_type": "markdown",
   "metadata": {},
   "source": [
    "# 1.  https://www.naukri.com/"
   ]
  },
  {
   "cell_type": "code",
   "execution_count": 40,
   "metadata": {},
   "outputs": [],
   "source": [
    "url='https://www.naukri.com/'\n",
    "driver.get(url)"
   ]
  },
  {
   "cell_type": "code",
   "execution_count": 41,
   "metadata": {},
   "outputs": [
    {
     "data": {
      "text/plain": [
       "<selenium.webdriver.remote.webelement.WebElement (session=\"e1a4e1538a92c3d0195b87a8b024dd5d\", element=\"c4c08570-72af-4e9b-96fd-d72ffb0b26e4\")>"
      ]
     },
     "execution_count": 41,
     "metadata": {},
     "output_type": "execute_result"
    }
   ],
   "source": [
    "search_job = driver.find_element_by_id(\"qsb-keyword-sugg\")\n",
    "search_job"
   ]
  },
  {
   "cell_type": "code",
   "execution_count": 42,
   "metadata": {},
   "outputs": [],
   "source": [
    "search_job.send_keys('Data Analyst')"
   ]
  },
  {
   "cell_type": "code",
   "execution_count": 43,
   "metadata": {},
   "outputs": [
    {
     "data": {
      "text/plain": [
       "<selenium.webdriver.remote.webelement.WebElement (session=\"e1a4e1538a92c3d0195b87a8b024dd5d\", element=\"93eabb90-4c20-45cf-8d1c-1c05c61b48a2\")>"
      ]
     },
     "execution_count": 43,
     "metadata": {},
     "output_type": "execute_result"
    }
   ],
   "source": [
    "search_loc = driver.find_element_by_id('qsb-location-sugg')\n",
    "search_loc"
   ]
  },
  {
   "cell_type": "code",
   "execution_count": 44,
   "metadata": {},
   "outputs": [],
   "source": [
    "search_loc.send_keys('Bangalore') "
   ]
  },
  {
   "cell_type": "code",
   "execution_count": 45,
   "metadata": {},
   "outputs": [],
   "source": [
    "search_btn = driver.find_element_by_xpath(\"//button[@class='btn']\")\n",
    "search_btn.click()"
   ]
  },
  {
   "cell_type": "code",
   "execution_count": 48,
   "metadata": {},
   "outputs": [
    {
     "data": {
      "text/plain": [
       "[<selenium.webdriver.remote.webelement.WebElement (session=\"e1a4e1538a92c3d0195b87a8b024dd5d\", element=\"7ae075d6-9126-434d-ba98-d7156e2f6f38\")>,\n",
       " <selenium.webdriver.remote.webelement.WebElement (session=\"e1a4e1538a92c3d0195b87a8b024dd5d\", element=\"27d0725f-f25d-431b-b75f-8d66a9019e70\")>,\n",
       " <selenium.webdriver.remote.webelement.WebElement (session=\"e1a4e1538a92c3d0195b87a8b024dd5d\", element=\"08e38125-c4da-475c-a4a7-999568e0692c\")>,\n",
       " <selenium.webdriver.remote.webelement.WebElement (session=\"e1a4e1538a92c3d0195b87a8b024dd5d\", element=\"4af38ae5-ce0c-4db8-8b56-897e1591603d\")>,\n",
       " <selenium.webdriver.remote.webelement.WebElement (session=\"e1a4e1538a92c3d0195b87a8b024dd5d\", element=\"63a4721e-970c-478c-b878-cc84a65354f8\")>,\n",
       " <selenium.webdriver.remote.webelement.WebElement (session=\"e1a4e1538a92c3d0195b87a8b024dd5d\", element=\"76a57e22-cbd7-4ba6-8370-ca58d6da41e2\")>,\n",
       " <selenium.webdriver.remote.webelement.WebElement (session=\"e1a4e1538a92c3d0195b87a8b024dd5d\", element=\"81a15e78-6ee6-4942-bf43-30c8579515c1\")>,\n",
       " <selenium.webdriver.remote.webelement.WebElement (session=\"e1a4e1538a92c3d0195b87a8b024dd5d\", element=\"6884f09c-b817-479e-abd7-ce2f5ec5a1b8\")>,\n",
       " <selenium.webdriver.remote.webelement.WebElement (session=\"e1a4e1538a92c3d0195b87a8b024dd5d\", element=\"20138b31-0774-4b54-b72b-76869d796cee\")>,\n",
       " <selenium.webdriver.remote.webelement.WebElement (session=\"e1a4e1538a92c3d0195b87a8b024dd5d\", element=\"a49a4b75-9145-4ddf-a067-72d50c023dee\")>,\n",
       " <selenium.webdriver.remote.webelement.WebElement (session=\"e1a4e1538a92c3d0195b87a8b024dd5d\", element=\"d4a62b06-7c22-463e-8a94-43795049da97\")>,\n",
       " <selenium.webdriver.remote.webelement.WebElement (session=\"e1a4e1538a92c3d0195b87a8b024dd5d\", element=\"06cd9429-e600-4a03-8fd9-d8d1308713e7\")>,\n",
       " <selenium.webdriver.remote.webelement.WebElement (session=\"e1a4e1538a92c3d0195b87a8b024dd5d\", element=\"83623572-09c0-445e-a437-3ea3a8e83be4\")>,\n",
       " <selenium.webdriver.remote.webelement.WebElement (session=\"e1a4e1538a92c3d0195b87a8b024dd5d\", element=\"da5c1d9a-0f1b-4eae-9b06-146ac26ed88e\")>,\n",
       " <selenium.webdriver.remote.webelement.WebElement (session=\"e1a4e1538a92c3d0195b87a8b024dd5d\", element=\"b9491ca0-fba1-4360-83f7-c1d408a4197d\")>,\n",
       " <selenium.webdriver.remote.webelement.WebElement (session=\"e1a4e1538a92c3d0195b87a8b024dd5d\", element=\"2af7aafa-6522-44b4-8f3d-924bd8340a5f\")>,\n",
       " <selenium.webdriver.remote.webelement.WebElement (session=\"e1a4e1538a92c3d0195b87a8b024dd5d\", element=\"a5db24bc-83aa-42bd-817a-9c021016cabe\")>,\n",
       " <selenium.webdriver.remote.webelement.WebElement (session=\"e1a4e1538a92c3d0195b87a8b024dd5d\", element=\"e9620e9c-7dd5-4da7-bc3c-c0fd41780bdd\")>,\n",
       " <selenium.webdriver.remote.webelement.WebElement (session=\"e1a4e1538a92c3d0195b87a8b024dd5d\", element=\"c50c0c2a-fac8-4478-927b-7bd5597d73b5\")>,\n",
       " <selenium.webdriver.remote.webelement.WebElement (session=\"e1a4e1538a92c3d0195b87a8b024dd5d\", element=\"afbbeb42-e1a2-4be9-9fcd-f4b29baaebdd\")>]"
      ]
     },
     "execution_count": 48,
     "metadata": {},
     "output_type": "execute_result"
    }
   ],
   "source": [
    "title_tags=driver.find_elements_by_xpath(\"//a[@class='title fw500 ellipsis']\")\n",
    "title_tags"
   ]
  },
  {
   "cell_type": "code",
   "execution_count": 49,
   "metadata": {},
   "outputs": [
    {
     "data": {
      "text/plain": [
       "['Senior Data Analyst - Data Lineage',\n",
       " 'Data Analyst - Informatica MDM',\n",
       " 'Data analysts',\n",
       " 'Excel VBA Jobs Bangalore | VBA data analyst Jobs',\n",
       " 'Data Analyst (2positions)//immediate Joiners//bangalore',\n",
       " 'Business/Data Analyst - SSE/LA',\n",
       " 'Business Data Analyst',\n",
       " 'Data Analyst',\n",
       " 'Data Analyst',\n",
       " 'Data Analyst - Category Demand Management (Revenue & Growth)',\n",
       " 'data analyst',\n",
       " 'RC HIA - Data Analyst - A2',\n",
       " 'Data Analyst (Contractual)',\n",
       " 'Procurement Data Analyst',\n",
       " 'Data Analyst',\n",
       " 'Hiring Consultant Data Analyst Contractual',\n",
       " 'Data Analyst/ Data Consultant (Various Levels – Senior/ Mid/ Junior)',\n",
       " 'Data Scientist / Data Analyst -Business Analyst',\n",
       " 'Sr Data Analyst 1',\n",
       " 'Senior Data Analyst']"
      ]
     },
     "execution_count": 49,
     "metadata": {},
     "output_type": "execute_result"
    }
   ],
   "source": [
    "job_titles=[]\n",
    "for i in title_tags:\n",
    "    job_titles.append(i.text)\n",
    "job_titles"
   ]
  },
  {
   "cell_type": "code",
   "execution_count": 50,
   "metadata": {},
   "outputs": [
    {
     "data": {
      "text/plain": [
       "[<selenium.webdriver.remote.webelement.WebElement (session=\"e1a4e1538a92c3d0195b87a8b024dd5d\", element=\"2ed1af92-8506-4701-b0f4-560926ef0cb6\")>,\n",
       " <selenium.webdriver.remote.webelement.WebElement (session=\"e1a4e1538a92c3d0195b87a8b024dd5d\", element=\"59727060-9d2b-4aef-8fb7-1e6e9d461f65\")>,\n",
       " <selenium.webdriver.remote.webelement.WebElement (session=\"e1a4e1538a92c3d0195b87a8b024dd5d\", element=\"87a35765-5e48-470c-b4fb-ac925f1a2977\")>,\n",
       " <selenium.webdriver.remote.webelement.WebElement (session=\"e1a4e1538a92c3d0195b87a8b024dd5d\", element=\"44847175-eda3-419d-9cf7-e877e943b498\")>,\n",
       " <selenium.webdriver.remote.webelement.WebElement (session=\"e1a4e1538a92c3d0195b87a8b024dd5d\", element=\"52eb8c00-7256-4f9a-bcd2-4046d9e9835b\")>,\n",
       " <selenium.webdriver.remote.webelement.WebElement (session=\"e1a4e1538a92c3d0195b87a8b024dd5d\", element=\"da47c3be-6b9e-4cee-ba2d-e3719fb67d2d\")>,\n",
       " <selenium.webdriver.remote.webelement.WebElement (session=\"e1a4e1538a92c3d0195b87a8b024dd5d\", element=\"e3d01ac1-cc93-4910-9307-984340665046\")>,\n",
       " <selenium.webdriver.remote.webelement.WebElement (session=\"e1a4e1538a92c3d0195b87a8b024dd5d\", element=\"a9f66284-7a1f-4e5f-ae07-c75bfa8ca673\")>,\n",
       " <selenium.webdriver.remote.webelement.WebElement (session=\"e1a4e1538a92c3d0195b87a8b024dd5d\", element=\"af8ff481-c093-4df3-8557-6e1032046140\")>,\n",
       " <selenium.webdriver.remote.webelement.WebElement (session=\"e1a4e1538a92c3d0195b87a8b024dd5d\", element=\"5a5182e4-f4e0-49bd-83c8-724fda07d412\")>,\n",
       " <selenium.webdriver.remote.webelement.WebElement (session=\"e1a4e1538a92c3d0195b87a8b024dd5d\", element=\"9cab027e-f9af-4d46-b22e-a2030c041b0c\")>,\n",
       " <selenium.webdriver.remote.webelement.WebElement (session=\"e1a4e1538a92c3d0195b87a8b024dd5d\", element=\"5d2237ae-0104-49c5-8d99-114fc9887a10\")>,\n",
       " <selenium.webdriver.remote.webelement.WebElement (session=\"e1a4e1538a92c3d0195b87a8b024dd5d\", element=\"a4d71766-b6b2-4e6c-9e58-fdf2f0469a03\")>,\n",
       " <selenium.webdriver.remote.webelement.WebElement (session=\"e1a4e1538a92c3d0195b87a8b024dd5d\", element=\"65884f45-4185-45e4-9034-b5575dbb33ec\")>,\n",
       " <selenium.webdriver.remote.webelement.WebElement (session=\"e1a4e1538a92c3d0195b87a8b024dd5d\", element=\"e66cec0f-7291-4eda-b93d-7ef559060825\")>]"
      ]
     },
     "execution_count": 50,
     "metadata": {},
     "output_type": "execute_result"
    }
   ],
   "source": [
    "loc_tags=driver.find_elements_by_xpath(\"//span[@title='Bangalore/Bengaluru']\")\n",
    "loc_tags"
   ]
  },
  {
   "cell_type": "code",
   "execution_count": 51,
   "metadata": {},
   "outputs": [
    {
     "data": {
      "text/plain": [
       "['Bangalore/Bengaluru',\n",
       " 'Bangalore/Bengaluru',\n",
       " 'Bangalore/Bengaluru',\n",
       " 'Bangalore/Bengaluru',\n",
       " 'Bangalore/Bengaluru',\n",
       " 'Bangalore/Bengaluru',\n",
       " 'Bangalore/Bengaluru',\n",
       " 'Bangalore/Bengaluru',\n",
       " 'Bangalore/Bengaluru',\n",
       " 'Bangalore/Bengaluru',\n",
       " 'Bangalore/Bengaluru',\n",
       " 'Bangalore/Bengaluru',\n",
       " 'Bangalore/Bengaluru',\n",
       " 'Bangalore/Bengaluru',\n",
       " 'Bangalore/Bengaluru']"
      ]
     },
     "execution_count": 51,
     "metadata": {},
     "output_type": "execute_result"
    }
   ],
   "source": [
    "loc_titles=[]\n",
    "for i in loc_tags:\n",
    "    loc_titles.append(i.text)\n",
    "loc_titles"
   ]
  },
  {
   "cell_type": "code",
   "execution_count": 52,
   "metadata": {},
   "outputs": [],
   "source": [
    "df = pd.DataFrame({ 'loc_titles':[1,2,3,4,5,6,7,8,9,10,11,12,13,14,15,16,17,18,19,20]})"
   ]
  },
  {
   "cell_type": "code",
   "execution_count": 53,
   "metadata": {},
   "outputs": [],
   "source": [
    "df = ['Bangalore/Bengaluru']*20"
   ]
  },
  {
   "cell_type": "code",
   "execution_count": 55,
   "metadata": {},
   "outputs": [
    {
     "data": {
      "text/plain": [
       "['Bangalore/Bengaluru',\n",
       " 'Bangalore/Bengaluru',\n",
       " 'Bangalore/Bengaluru',\n",
       " 'Bangalore/Bengaluru',\n",
       " 'Bangalore/Bengaluru',\n",
       " 'Bangalore/Bengaluru',\n",
       " 'Bangalore/Bengaluru',\n",
       " 'Bangalore/Bengaluru',\n",
       " 'Bangalore/Bengaluru',\n",
       " 'Bangalore/Bengaluru',\n",
       " 'Bangalore/Bengaluru',\n",
       " 'Bangalore/Bengaluru',\n",
       " 'Bangalore/Bengaluru',\n",
       " 'Bangalore/Bengaluru',\n",
       " 'Bangalore/Bengaluru',\n",
       " 'Bangalore/Bengaluru',\n",
       " 'Bangalore/Bengaluru',\n",
       " 'Bangalore/Bengaluru',\n",
       " 'Bangalore/Bengaluru',\n",
       " 'Bangalore/Bengaluru']"
      ]
     },
     "execution_count": 55,
     "metadata": {},
     "output_type": "execute_result"
    }
   ],
   "source": [
    "df"
   ]
  },
  {
   "cell_type": "code",
   "execution_count": 56,
   "metadata": {},
   "outputs": [
    {
     "data": {
      "text/plain": [
       "[<selenium.webdriver.remote.webelement.WebElement (session=\"e1a4e1538a92c3d0195b87a8b024dd5d\", element=\"6f771633-4e43-42f8-ab65-03688076be9f\")>,\n",
       " <selenium.webdriver.remote.webelement.WebElement (session=\"e1a4e1538a92c3d0195b87a8b024dd5d\", element=\"2d9c75fa-5671-461d-a919-febd13ba095a\")>,\n",
       " <selenium.webdriver.remote.webelement.WebElement (session=\"e1a4e1538a92c3d0195b87a8b024dd5d\", element=\"7681d1b1-82cd-4a14-8100-18cd487aed1d\")>,\n",
       " <selenium.webdriver.remote.webelement.WebElement (session=\"e1a4e1538a92c3d0195b87a8b024dd5d\", element=\"b732fc54-d356-4561-99d2-ae178fc712d5\")>,\n",
       " <selenium.webdriver.remote.webelement.WebElement (session=\"e1a4e1538a92c3d0195b87a8b024dd5d\", element=\"dafdb193-d962-469e-b9fe-3f6efdf4ba4c\")>,\n",
       " <selenium.webdriver.remote.webelement.WebElement (session=\"e1a4e1538a92c3d0195b87a8b024dd5d\", element=\"70d615eb-64f3-435b-8cf2-4fbb7b504643\")>,\n",
       " <selenium.webdriver.remote.webelement.WebElement (session=\"e1a4e1538a92c3d0195b87a8b024dd5d\", element=\"5d6216d3-2614-426a-acfd-cbc3a082b5f0\")>,\n",
       " <selenium.webdriver.remote.webelement.WebElement (session=\"e1a4e1538a92c3d0195b87a8b024dd5d\", element=\"56e9334c-2749-470b-bee4-0faf7a24f294\")>,\n",
       " <selenium.webdriver.remote.webelement.WebElement (session=\"e1a4e1538a92c3d0195b87a8b024dd5d\", element=\"6191f9e9-2220-406f-b754-3b84e48a1749\")>,\n",
       " <selenium.webdriver.remote.webelement.WebElement (session=\"e1a4e1538a92c3d0195b87a8b024dd5d\", element=\"9491f13e-6944-48ed-9e0f-b8db0a32ffff\")>,\n",
       " <selenium.webdriver.remote.webelement.WebElement (session=\"e1a4e1538a92c3d0195b87a8b024dd5d\", element=\"ebde39f5-643a-4fc1-902f-8f9828777f67\")>,\n",
       " <selenium.webdriver.remote.webelement.WebElement (session=\"e1a4e1538a92c3d0195b87a8b024dd5d\", element=\"e97286ee-532f-4df0-8db7-b9c9e0a99baf\")>,\n",
       " <selenium.webdriver.remote.webelement.WebElement (session=\"e1a4e1538a92c3d0195b87a8b024dd5d\", element=\"63885ecd-ee34-438b-92ba-8de1c752a4e0\")>,\n",
       " <selenium.webdriver.remote.webelement.WebElement (session=\"e1a4e1538a92c3d0195b87a8b024dd5d\", element=\"6a0ea2b5-7dcb-4084-8bdf-f3ee3369fe95\")>,\n",
       " <selenium.webdriver.remote.webelement.WebElement (session=\"e1a4e1538a92c3d0195b87a8b024dd5d\", element=\"71d7a08a-7fc9-4601-89cc-573c8a2158b1\")>,\n",
       " <selenium.webdriver.remote.webelement.WebElement (session=\"e1a4e1538a92c3d0195b87a8b024dd5d\", element=\"c16f04a4-93f1-4df4-be8d-1e84c3700375\")>,\n",
       " <selenium.webdriver.remote.webelement.WebElement (session=\"e1a4e1538a92c3d0195b87a8b024dd5d\", element=\"4e71357c-2adf-47cb-9a40-a99d0797049f\")>,\n",
       " <selenium.webdriver.remote.webelement.WebElement (session=\"e1a4e1538a92c3d0195b87a8b024dd5d\", element=\"51d55f54-c083-4574-a400-48b4ef681adf\")>,\n",
       " <selenium.webdriver.remote.webelement.WebElement (session=\"e1a4e1538a92c3d0195b87a8b024dd5d\", element=\"e5a20061-9851-4b55-82cc-04241eef20d8\")>,\n",
       " <selenium.webdriver.remote.webelement.WebElement (session=\"e1a4e1538a92c3d0195b87a8b024dd5d\", element=\"58432f30-f9d3-4c67-87ef-a32046c13254\")>]"
      ]
     },
     "execution_count": 56,
     "metadata": {},
     "output_type": "execute_result"
    }
   ],
   "source": [
    "name_tags=driver.find_elements_by_xpath(\"//a[@class='subTitle ellipsis fleft']\")\n",
    "name_tags"
   ]
  },
  {
   "cell_type": "code",
   "execution_count": 57,
   "metadata": {},
   "outputs": [
    {
     "data": {
      "text/plain": [
       "['Opex Global Services',\n",
       " 'Shell India Markets Private Limited',\n",
       " 'IBM India Pvt. Limited',\n",
       " 'Mind Circus Innovation',\n",
       " 'Tech Mahindra Ltd.',\n",
       " 'CGI Information Systems and Management Consultants',\n",
       " 'dotSolved India Pvt., Ltd.',\n",
       " 'Myntra Designs Pvt. Ltd.',\n",
       " 'Myntra Designs Pvt. Ltd.',\n",
       " 'Myntra Designs Pvt. Ltd.',\n",
       " 'Disha Consultants',\n",
       " 'Pricewaterhouse Coopers Private Limited',\n",
       " 'Flipkart Internet Private Limited',\n",
       " 'Schneider Electric',\n",
       " 'IBM India Pvt. Limited',\n",
       " 'Flipkart Internet Private Limited',\n",
       " 'DVSUM INDIA PRIVATE LIMITED',\n",
       " 'Inflexion Analytix Private Limited',\n",
       " 'IHS Markit',\n",
       " 'Eze Castle Integration Services (Formerly Alphaserve Technologies)']"
      ]
     },
     "execution_count": 57,
     "metadata": {},
     "output_type": "execute_result"
    }
   ],
   "source": [
    "com_titles=[]\n",
    "for i in name_tags:\n",
    "    com_titles.append(i.text)\n",
    "com_titles"
   ]
  },
  {
   "cell_type": "code",
   "execution_count": 58,
   "metadata": {},
   "outputs": [
    {
     "data": {
      "text/plain": [
       "[<selenium.webdriver.remote.webelement.WebElement (session=\"e1a4e1538a92c3d0195b87a8b024dd5d\", element=\"ecb916ad-8f73-4eaf-aa77-dd9ccf255a19\")>,\n",
       " <selenium.webdriver.remote.webelement.WebElement (session=\"e1a4e1538a92c3d0195b87a8b024dd5d\", element=\"f59d5bbb-14c3-466e-9fd8-74b3f6b735a2\")>,\n",
       " <selenium.webdriver.remote.webelement.WebElement (session=\"e1a4e1538a92c3d0195b87a8b024dd5d\", element=\"92bb0d88-df25-434b-b2e8-9a39992a65e4\")>,\n",
       " <selenium.webdriver.remote.webelement.WebElement (session=\"e1a4e1538a92c3d0195b87a8b024dd5d\", element=\"42fbd0b3-14a0-4fd4-9c76-26f901508b37\")>,\n",
       " <selenium.webdriver.remote.webelement.WebElement (session=\"e1a4e1538a92c3d0195b87a8b024dd5d\", element=\"cec1d497-c440-4edc-a635-ac52475d4b12\")>,\n",
       " <selenium.webdriver.remote.webelement.WebElement (session=\"e1a4e1538a92c3d0195b87a8b024dd5d\", element=\"18d0e8b2-0c3e-4d27-b982-ebe94026e005\")>,\n",
       " <selenium.webdriver.remote.webelement.WebElement (session=\"e1a4e1538a92c3d0195b87a8b024dd5d\", element=\"d0f3674a-ecce-4479-8c35-68a107c18ea6\")>,\n",
       " <selenium.webdriver.remote.webelement.WebElement (session=\"e1a4e1538a92c3d0195b87a8b024dd5d\", element=\"6465f387-78bb-4e23-a37f-880d4d0768fb\")>,\n",
       " <selenium.webdriver.remote.webelement.WebElement (session=\"e1a4e1538a92c3d0195b87a8b024dd5d\", element=\"c3b08a41-affd-41bf-9c9f-31ed274bfe13\")>,\n",
       " <selenium.webdriver.remote.webelement.WebElement (session=\"e1a4e1538a92c3d0195b87a8b024dd5d\", element=\"c7454ea6-0447-4a59-af84-3f929642e63d\")>,\n",
       " <selenium.webdriver.remote.webelement.WebElement (session=\"e1a4e1538a92c3d0195b87a8b024dd5d\", element=\"9d531f99-18a9-4d31-9668-898689795a23\")>,\n",
       " <selenium.webdriver.remote.webelement.WebElement (session=\"e1a4e1538a92c3d0195b87a8b024dd5d\", element=\"6f560fd3-51e6-4651-bf7d-22b54c79de31\")>,\n",
       " <selenium.webdriver.remote.webelement.WebElement (session=\"e1a4e1538a92c3d0195b87a8b024dd5d\", element=\"4b8f1164-37d0-4db1-ae60-00878e93bae1\")>,\n",
       " <selenium.webdriver.remote.webelement.WebElement (session=\"e1a4e1538a92c3d0195b87a8b024dd5d\", element=\"4aae09a2-da32-45ce-8fcc-c7630d3da40e\")>,\n",
       " <selenium.webdriver.remote.webelement.WebElement (session=\"e1a4e1538a92c3d0195b87a8b024dd5d\", element=\"5cc01f03-df27-4ba3-b4bf-61d2659c72ff\")>,\n",
       " <selenium.webdriver.remote.webelement.WebElement (session=\"e1a4e1538a92c3d0195b87a8b024dd5d\", element=\"b2d92dc1-88a1-41ed-9e6e-c1c083a0f364\")>,\n",
       " <selenium.webdriver.remote.webelement.WebElement (session=\"e1a4e1538a92c3d0195b87a8b024dd5d\", element=\"7df2701d-237a-4d58-9dce-aeffa3b8da19\")>,\n",
       " <selenium.webdriver.remote.webelement.WebElement (session=\"e1a4e1538a92c3d0195b87a8b024dd5d\", element=\"9fab9918-e6ce-4d14-a0c4-ad723f29a366\")>,\n",
       " <selenium.webdriver.remote.webelement.WebElement (session=\"e1a4e1538a92c3d0195b87a8b024dd5d\", element=\"73dd7773-7eb5-4f10-bca3-809ee6589954\")>,\n",
       " <selenium.webdriver.remote.webelement.WebElement (session=\"e1a4e1538a92c3d0195b87a8b024dd5d\", element=\"34ae99b1-e4ae-4100-9a90-2cff896fef39\")>]"
      ]
     },
     "execution_count": 58,
     "metadata": {},
     "output_type": "execute_result"
    }
   ],
   "source": [
    "exp_tags=driver.find_elements_by_xpath(\"//li[@class='fleft grey-text br2 placeHolderLi experience']\")\n",
    "exp_tags"
   ]
  },
  {
   "cell_type": "code",
   "execution_count": 59,
   "metadata": {},
   "outputs": [
    {
     "data": {
      "text/plain": [
       "['5-10 Yrs',\n",
       " '6-9 Yrs',\n",
       " '3-5 Yrs',\n",
       " '0-1 Yrs',\n",
       " '4-8 Yrs',\n",
       " '2-5 Yrs',\n",
       " '9-13 Yrs',\n",
       " '3-5 Yrs',\n",
       " '3-8 Yrs',\n",
       " '1-4 Yrs',\n",
       " '2-4 Yrs',\n",
       " '4-6 Yrs',\n",
       " '1-4 Yrs',\n",
       " '1-3 Yrs',\n",
       " '5-10 Yrs',\n",
       " '2-6 Yrs',\n",
       " '5-10 Yrs',\n",
       " '0-3 Yrs',\n",
       " '3-6 Yrs',\n",
       " '6-11 Yrs']"
      ]
     },
     "execution_count": 59,
     "metadata": {},
     "output_type": "execute_result"
    }
   ],
   "source": [
    "exp_titles=[]\n",
    "for i in exp_tags:\n",
    "    exp_titles.append(i.text)\n",
    "exp_titles"
   ]
  },
  {
   "cell_type": "code",
   "execution_count": 60,
   "metadata": {},
   "outputs": [
    {
     "name": "stdout",
     "output_type": "stream",
     "text": [
      "20 20 20 20\n"
     ]
    }
   ],
   "source": [
    "print(len(job_titles),len(df),len(com_titles),len(exp_titles))"
   ]
  },
  {
   "cell_type": "code",
   "execution_count": 61,
   "metadata": {},
   "outputs": [],
   "source": [
    "jobs=pd.DataFrame({})\n",
    "jobs['title']=job_titles\n",
    "jobs['location']=df\n",
    "jobs['company']=com_titles\n",
    "jobs['experience']=exp_titles"
   ]
  },
  {
   "cell_type": "code",
   "execution_count": 62,
   "metadata": {},
   "outputs": [
    {
     "data": {
      "text/html": [
       "<div>\n",
       "<style scoped>\n",
       "    .dataframe tbody tr th:only-of-type {\n",
       "        vertical-align: middle;\n",
       "    }\n",
       "\n",
       "    .dataframe tbody tr th {\n",
       "        vertical-align: top;\n",
       "    }\n",
       "\n",
       "    .dataframe thead th {\n",
       "        text-align: right;\n",
       "    }\n",
       "</style>\n",
       "<table border=\"1\" class=\"dataframe\">\n",
       "  <thead>\n",
       "    <tr style=\"text-align: right;\">\n",
       "      <th></th>\n",
       "      <th>title</th>\n",
       "      <th>location</th>\n",
       "      <th>company</th>\n",
       "      <th>experience</th>\n",
       "    </tr>\n",
       "  </thead>\n",
       "  <tbody>\n",
       "    <tr>\n",
       "      <th>0</th>\n",
       "      <td>Senior Data Analyst - Data Lineage</td>\n",
       "      <td>Bangalore/Bengaluru</td>\n",
       "      <td>Opex Global Services</td>\n",
       "      <td>5-10 Yrs</td>\n",
       "    </tr>\n",
       "    <tr>\n",
       "      <th>1</th>\n",
       "      <td>Data Analyst - Informatica MDM</td>\n",
       "      <td>Bangalore/Bengaluru</td>\n",
       "      <td>Shell India Markets Private Limited</td>\n",
       "      <td>6-9 Yrs</td>\n",
       "    </tr>\n",
       "    <tr>\n",
       "      <th>2</th>\n",
       "      <td>Data analysts</td>\n",
       "      <td>Bangalore/Bengaluru</td>\n",
       "      <td>IBM India Pvt. Limited</td>\n",
       "      <td>3-5 Yrs</td>\n",
       "    </tr>\n",
       "    <tr>\n",
       "      <th>3</th>\n",
       "      <td>Excel VBA Jobs Bangalore | VBA data analyst Jobs</td>\n",
       "      <td>Bangalore/Bengaluru</td>\n",
       "      <td>Mind Circus Innovation</td>\n",
       "      <td>0-1 Yrs</td>\n",
       "    </tr>\n",
       "    <tr>\n",
       "      <th>4</th>\n",
       "      <td>Data Analyst (2positions)//immediate Joiners//...</td>\n",
       "      <td>Bangalore/Bengaluru</td>\n",
       "      <td>Tech Mahindra Ltd.</td>\n",
       "      <td>4-8 Yrs</td>\n",
       "    </tr>\n",
       "    <tr>\n",
       "      <th>5</th>\n",
       "      <td>Business/Data Analyst - SSE/LA</td>\n",
       "      <td>Bangalore/Bengaluru</td>\n",
       "      <td>CGI Information Systems and Management Consult...</td>\n",
       "      <td>2-5 Yrs</td>\n",
       "    </tr>\n",
       "    <tr>\n",
       "      <th>6</th>\n",
       "      <td>Business Data Analyst</td>\n",
       "      <td>Bangalore/Bengaluru</td>\n",
       "      <td>dotSolved India Pvt., Ltd.</td>\n",
       "      <td>9-13 Yrs</td>\n",
       "    </tr>\n",
       "    <tr>\n",
       "      <th>7</th>\n",
       "      <td>Data Analyst</td>\n",
       "      <td>Bangalore/Bengaluru</td>\n",
       "      <td>Myntra Designs Pvt. Ltd.</td>\n",
       "      <td>3-5 Yrs</td>\n",
       "    </tr>\n",
       "    <tr>\n",
       "      <th>8</th>\n",
       "      <td>Data Analyst</td>\n",
       "      <td>Bangalore/Bengaluru</td>\n",
       "      <td>Myntra Designs Pvt. Ltd.</td>\n",
       "      <td>3-8 Yrs</td>\n",
       "    </tr>\n",
       "    <tr>\n",
       "      <th>9</th>\n",
       "      <td>Data Analyst - Category Demand Management (Rev...</td>\n",
       "      <td>Bangalore/Bengaluru</td>\n",
       "      <td>Myntra Designs Pvt. Ltd.</td>\n",
       "      <td>1-4 Yrs</td>\n",
       "    </tr>\n",
       "    <tr>\n",
       "      <th>10</th>\n",
       "      <td>data analyst</td>\n",
       "      <td>Bangalore/Bengaluru</td>\n",
       "      <td>Disha Consultants</td>\n",
       "      <td>2-4 Yrs</td>\n",
       "    </tr>\n",
       "    <tr>\n",
       "      <th>11</th>\n",
       "      <td>RC HIA - Data Analyst - A2</td>\n",
       "      <td>Bangalore/Bengaluru</td>\n",
       "      <td>Pricewaterhouse Coopers Private Limited</td>\n",
       "      <td>4-6 Yrs</td>\n",
       "    </tr>\n",
       "    <tr>\n",
       "      <th>12</th>\n",
       "      <td>Data Analyst (Contractual)</td>\n",
       "      <td>Bangalore/Bengaluru</td>\n",
       "      <td>Flipkart Internet Private Limited</td>\n",
       "      <td>1-4 Yrs</td>\n",
       "    </tr>\n",
       "    <tr>\n",
       "      <th>13</th>\n",
       "      <td>Procurement Data Analyst</td>\n",
       "      <td>Bangalore/Bengaluru</td>\n",
       "      <td>Schneider Electric</td>\n",
       "      <td>1-3 Yrs</td>\n",
       "    </tr>\n",
       "    <tr>\n",
       "      <th>14</th>\n",
       "      <td>Data Analyst</td>\n",
       "      <td>Bangalore/Bengaluru</td>\n",
       "      <td>IBM India Pvt. Limited</td>\n",
       "      <td>5-10 Yrs</td>\n",
       "    </tr>\n",
       "    <tr>\n",
       "      <th>15</th>\n",
       "      <td>Hiring Consultant Data Analyst Contractual</td>\n",
       "      <td>Bangalore/Bengaluru</td>\n",
       "      <td>Flipkart Internet Private Limited</td>\n",
       "      <td>2-6 Yrs</td>\n",
       "    </tr>\n",
       "    <tr>\n",
       "      <th>16</th>\n",
       "      <td>Data Analyst/ Data Consultant (Various Levels ...</td>\n",
       "      <td>Bangalore/Bengaluru</td>\n",
       "      <td>DVSUM INDIA PRIVATE LIMITED</td>\n",
       "      <td>5-10 Yrs</td>\n",
       "    </tr>\n",
       "    <tr>\n",
       "      <th>17</th>\n",
       "      <td>Data Scientist / Data Analyst -Business Analyst</td>\n",
       "      <td>Bangalore/Bengaluru</td>\n",
       "      <td>Inflexion Analytix Private Limited</td>\n",
       "      <td>0-3 Yrs</td>\n",
       "    </tr>\n",
       "    <tr>\n",
       "      <th>18</th>\n",
       "      <td>Sr Data Analyst 1</td>\n",
       "      <td>Bangalore/Bengaluru</td>\n",
       "      <td>IHS Markit</td>\n",
       "      <td>3-6 Yrs</td>\n",
       "    </tr>\n",
       "    <tr>\n",
       "      <th>19</th>\n",
       "      <td>Senior Data Analyst</td>\n",
       "      <td>Bangalore/Bengaluru</td>\n",
       "      <td>Eze Castle Integration Services (Formerly Alph...</td>\n",
       "      <td>6-11 Yrs</td>\n",
       "    </tr>\n",
       "  </tbody>\n",
       "</table>\n",
       "</div>"
      ],
      "text/plain": [
       "                                                title             location  \\\n",
       "0                  Senior Data Analyst - Data Lineage  Bangalore/Bengaluru   \n",
       "1                      Data Analyst - Informatica MDM  Bangalore/Bengaluru   \n",
       "2                                       Data analysts  Bangalore/Bengaluru   \n",
       "3    Excel VBA Jobs Bangalore | VBA data analyst Jobs  Bangalore/Bengaluru   \n",
       "4   Data Analyst (2positions)//immediate Joiners//...  Bangalore/Bengaluru   \n",
       "5                      Business/Data Analyst - SSE/LA  Bangalore/Bengaluru   \n",
       "6                               Business Data Analyst  Bangalore/Bengaluru   \n",
       "7                                        Data Analyst  Bangalore/Bengaluru   \n",
       "8                                        Data Analyst  Bangalore/Bengaluru   \n",
       "9   Data Analyst - Category Demand Management (Rev...  Bangalore/Bengaluru   \n",
       "10                                       data analyst  Bangalore/Bengaluru   \n",
       "11                         RC HIA - Data Analyst - A2  Bangalore/Bengaluru   \n",
       "12                         Data Analyst (Contractual)  Bangalore/Bengaluru   \n",
       "13                           Procurement Data Analyst  Bangalore/Bengaluru   \n",
       "14                                       Data Analyst  Bangalore/Bengaluru   \n",
       "15         Hiring Consultant Data Analyst Contractual  Bangalore/Bengaluru   \n",
       "16  Data Analyst/ Data Consultant (Various Levels ...  Bangalore/Bengaluru   \n",
       "17    Data Scientist / Data Analyst -Business Analyst  Bangalore/Bengaluru   \n",
       "18                                  Sr Data Analyst 1  Bangalore/Bengaluru   \n",
       "19                                Senior Data Analyst  Bangalore/Bengaluru   \n",
       "\n",
       "                                              company experience  \n",
       "0                                Opex Global Services   5-10 Yrs  \n",
       "1                 Shell India Markets Private Limited    6-9 Yrs  \n",
       "2                              IBM India Pvt. Limited    3-5 Yrs  \n",
       "3                              Mind Circus Innovation    0-1 Yrs  \n",
       "4                                  Tech Mahindra Ltd.    4-8 Yrs  \n",
       "5   CGI Information Systems and Management Consult...    2-5 Yrs  \n",
       "6                          dotSolved India Pvt., Ltd.   9-13 Yrs  \n",
       "7                            Myntra Designs Pvt. Ltd.    3-5 Yrs  \n",
       "8                            Myntra Designs Pvt. Ltd.    3-8 Yrs  \n",
       "9                            Myntra Designs Pvt. Ltd.    1-4 Yrs  \n",
       "10                                  Disha Consultants    2-4 Yrs  \n",
       "11            Pricewaterhouse Coopers Private Limited    4-6 Yrs  \n",
       "12                  Flipkart Internet Private Limited    1-4 Yrs  \n",
       "13                                 Schneider Electric    1-3 Yrs  \n",
       "14                             IBM India Pvt. Limited   5-10 Yrs  \n",
       "15                  Flipkart Internet Private Limited    2-6 Yrs  \n",
       "16                        DVSUM INDIA PRIVATE LIMITED   5-10 Yrs  \n",
       "17                 Inflexion Analytix Private Limited    0-3 Yrs  \n",
       "18                                         IHS Markit    3-6 Yrs  \n",
       "19  Eze Castle Integration Services (Formerly Alph...   6-11 Yrs  "
      ]
     },
     "execution_count": 62,
     "metadata": {},
     "output_type": "execute_result"
    }
   ],
   "source": [
    "jobs"
   ]
  },
  {
   "cell_type": "markdown",
   "metadata": {},
   "source": [
    "# 2.  https://www.naukri.com/"
   ]
  },
  {
   "cell_type": "code",
   "execution_count": 165,
   "metadata": {},
   "outputs": [],
   "source": [
    "driver = webdriver.Chrome('chromedriver.exe')"
   ]
  },
  {
   "cell_type": "code",
   "execution_count": 166,
   "metadata": {},
   "outputs": [],
   "source": [
    "url='https://www.naukri.com/'\n",
    "driver.get(url)"
   ]
  },
  {
   "cell_type": "code",
   "execution_count": 167,
   "metadata": {},
   "outputs": [
    {
     "data": {
      "text/plain": [
       "<selenium.webdriver.remote.webelement.WebElement (session=\"c2d9fea78d2fc6ea2c3d9e1c4dfa340c\", element=\"0ff0b57f-8f56-4c64-b912-50d25e587c84\")>"
      ]
     },
     "execution_count": 167,
     "metadata": {},
     "output_type": "execute_result"
    }
   ],
   "source": [
    "search_job = driver.find_element_by_id(\"qsb-keyword-sugg\")\n",
    "search_job"
   ]
  },
  {
   "cell_type": "code",
   "execution_count": 168,
   "metadata": {},
   "outputs": [],
   "source": [
    "search_job.send_keys('Data scientist')"
   ]
  },
  {
   "cell_type": "code",
   "execution_count": 169,
   "metadata": {},
   "outputs": [
    {
     "data": {
      "text/plain": [
       "<selenium.webdriver.remote.webelement.WebElement (session=\"c2d9fea78d2fc6ea2c3d9e1c4dfa340c\", element=\"48e51e8e-2f6b-4fce-b3f9-550ffff1be7a\")>"
      ]
     },
     "execution_count": 169,
     "metadata": {},
     "output_type": "execute_result"
    }
   ],
   "source": [
    "search_loc = driver.find_element_by_id('qsb-location-sugg')\n",
    "search_loc"
   ]
  },
  {
   "cell_type": "code",
   "execution_count": 170,
   "metadata": {},
   "outputs": [],
   "source": [
    "search_loc.send_keys('Bangalore') "
   ]
  },
  {
   "cell_type": "code",
   "execution_count": 171,
   "metadata": {},
   "outputs": [],
   "source": [
    "search_btn = driver.find_element_by_xpath(\"//button[@class='btn']\")\n",
    "search_btn.click()"
   ]
  },
  {
   "cell_type": "code",
   "execution_count": 172,
   "metadata": {},
   "outputs": [],
   "source": [
    "job_title=[]\n",
    "job_location=[]\n",
    "company_name=[]\n",
    "full_job_description=[]"
   ]
  },
  {
   "cell_type": "code",
   "execution_count": 173,
   "metadata": {},
   "outputs": [],
   "source": [
    "titles=driver.find_elements_by_xpath(\"//a[@class='title fw500 ellipsis']\")\n",
    "for i in titles:\n",
    "    if i.text is None :\n",
    "        job_title.append(\"--\") \n",
    "    else:\n",
    "        job_title.append(i.text)"
   ]
  },
  {
   "cell_type": "code",
   "execution_count": 174,
   "metadata": {},
   "outputs": [],
   "source": [
    "locations=driver.find_elements_by_xpath(\"//li[@class='fleft grey-text br2 placeHolderLi location']/span[1]\")\n",
    "for i in locations:\n",
    "    if i.text is None :\n",
    "        job_location.append(\"--\") \n",
    "    else:\n",
    "        job_location.append(i.text)"
   ]
  },
  {
   "cell_type": "code",
   "execution_count": 175,
   "metadata": {},
   "outputs": [],
   "source": [
    "companies=driver.find_elements_by_xpath(\"//div[@class='mt-7 companyInfo subheading lh16']/a\")\n",
    "for i in companies:\n",
    "    if i.text is None :\n",
    "        company_name.append(\"--\") \n",
    "    else:\n",
    "        company_name.append(i.text)"
   ]
  },
  {
   "cell_type": "code",
   "execution_count": 176,
   "metadata": {},
   "outputs": [],
   "source": [
    "urls=[i.get_attribute(\"href\")for i in driver.find_elements_by_xpath(\"//a[@class='title fw500 ellipsis']\")]\n",
    "for url in urls[0:10]:\n",
    "    try:\n",
    "        \n",
    "        driver.get(url)\n",
    "        raw_description=driver.find_element_by_xpath(\"//section[@class='job-desc']/div[1]\").text\n",
    "        description=raw_description.replace(\"Contact Person\",\"@@@@@\")\n",
    "        description= description.split(\"@@@@@\")\n",
    "        full_job_description.append(description[0])\n",
    "    except NoSuchElementException :\n",
    "        full_job_description.append(\"---\")"
   ]
  },
  {
   "cell_type": "code",
   "execution_count": 177,
   "metadata": {},
   "outputs": [],
   "source": [
    "df=pd.DataFrame({\"job_title\":job_title[0:10],\"company_name\":company_name[0:10],\"job_location\":job_location[0:10],\n",
    "                \"job_description\":full_job_description[0:10]})"
   ]
  },
  {
   "cell_type": "code",
   "execution_count": 178,
   "metadata": {},
   "outputs": [
    {
     "data": {
      "text/html": [
       "<div>\n",
       "<style scoped>\n",
       "    .dataframe tbody tr th:only-of-type {\n",
       "        vertical-align: middle;\n",
       "    }\n",
       "\n",
       "    .dataframe tbody tr th {\n",
       "        vertical-align: top;\n",
       "    }\n",
       "\n",
       "    .dataframe thead th {\n",
       "        text-align: right;\n",
       "    }\n",
       "</style>\n",
       "<table border=\"1\" class=\"dataframe\">\n",
       "  <thead>\n",
       "    <tr style=\"text-align: right;\">\n",
       "      <th></th>\n",
       "      <th>job_title</th>\n",
       "      <th>company_name</th>\n",
       "      <th>job_location</th>\n",
       "      <th>job_description</th>\n",
       "    </tr>\n",
       "  </thead>\n",
       "  <tbody>\n",
       "    <tr>\n",
       "      <th>0</th>\n",
       "      <td>Senior Data Scientist</td>\n",
       "      <td>RedBus</td>\n",
       "      <td>Bangalore/Bengaluru</td>\n",
       "      <td>---</td>\n",
       "    </tr>\n",
       "    <tr>\n",
       "      <th>1</th>\n",
       "      <td>Immediate job opening - Senior Data Scientist</td>\n",
       "      <td>(85 Reviews)</td>\n",
       "      <td>Bangalore/Bengaluru</td>\n",
       "      <td>---</td>\n",
       "    </tr>\n",
       "    <tr>\n",
       "      <th>2</th>\n",
       "      <td>Senior Data Scientist</td>\n",
       "      <td>RedBus</td>\n",
       "      <td>Mumbai, Gurgaon/Gurugram, Bangalore/Bengaluru</td>\n",
       "      <td>Serve as primary technical lead on all phases ...</td>\n",
       "    </tr>\n",
       "    <tr>\n",
       "      <th>3</th>\n",
       "      <td>Senior/ Lead Data Scientist</td>\n",
       "      <td>(85 Reviews)</td>\n",
       "      <td>Bangalore/Bengaluru</td>\n",
       "      <td>Responsibilities\\nProvide advanced analytical ...</td>\n",
       "    </tr>\n",
       "    <tr>\n",
       "      <th>4</th>\n",
       "      <td>Lead Data Scientist</td>\n",
       "      <td>Fractal Analytics</td>\n",
       "      <td>Bangalore/Bengaluru</td>\n",
       "      <td>Job Summary\\nThe candidate should be a Cyberse...</td>\n",
       "    </tr>\n",
       "    <tr>\n",
       "      <th>5</th>\n",
       "      <td>Lead Data Scientist</td>\n",
       "      <td>(95 Reviews)</td>\n",
       "      <td>Gurgaon/Gurugram, Bangalore/Bengaluru, Mumbai ...</td>\n",
       "      <td>Position Description:\\nThe Artificial Intellig...</td>\n",
       "    </tr>\n",
       "    <tr>\n",
       "      <th>6</th>\n",
       "      <td>Data Scientist - IBM Garage</td>\n",
       "      <td>Superior Group</td>\n",
       "      <td>Bengaluru/Bangalore</td>\n",
       "      <td>---</td>\n",
       "    </tr>\n",
       "    <tr>\n",
       "      <th>7</th>\n",
       "      <td>Deputy Manager - Datalabs (Data Scientist)</td>\n",
       "      <td>(14 Reviews)</td>\n",
       "      <td>Bangalore/Bengaluru</td>\n",
       "      <td>Roles &amp; Responsibilities\\nDevelop end to end s...</td>\n",
       "    </tr>\n",
       "    <tr>\n",
       "      <th>8</th>\n",
       "      <td>Data Scientist</td>\n",
       "      <td>FICO</td>\n",
       "      <td>Davangere, Bangalore/Bengaluru</td>\n",
       "      <td>Job Role: Data Scientist\\nExperience Education...</td>\n",
       "    </tr>\n",
       "    <tr>\n",
       "      <th>9</th>\n",
       "      <td>Senior Data Scientist</td>\n",
       "      <td>(59 Reviews)</td>\n",
       "      <td>Bangalore/Bengaluru</td>\n",
       "      <td>Senior Data Scientist\\nBangalore\\nDescription\\...</td>\n",
       "    </tr>\n",
       "  </tbody>\n",
       "</table>\n",
       "</div>"
      ],
      "text/plain": [
       "                                       job_title       company_name  \\\n",
       "0                          Senior Data Scientist             RedBus   \n",
       "1  Immediate job opening - Senior Data Scientist       (85 Reviews)   \n",
       "2                          Senior Data Scientist             RedBus   \n",
       "3                    Senior/ Lead Data Scientist       (85 Reviews)   \n",
       "4                            Lead Data Scientist  Fractal Analytics   \n",
       "5                            Lead Data Scientist       (95 Reviews)   \n",
       "6                    Data Scientist - IBM Garage     Superior Group   \n",
       "7     Deputy Manager - Datalabs (Data Scientist)       (14 Reviews)   \n",
       "8                                 Data Scientist               FICO   \n",
       "9                          Senior Data Scientist       (59 Reviews)   \n",
       "\n",
       "                                        job_location  \\\n",
       "0                                Bangalore/Bengaluru   \n",
       "1                                Bangalore/Bengaluru   \n",
       "2      Mumbai, Gurgaon/Gurugram, Bangalore/Bengaluru   \n",
       "3                                Bangalore/Bengaluru   \n",
       "4                                Bangalore/Bengaluru   \n",
       "5  Gurgaon/Gurugram, Bangalore/Bengaluru, Mumbai ...   \n",
       "6                                Bengaluru/Bangalore   \n",
       "7                                Bangalore/Bengaluru   \n",
       "8                     Davangere, Bangalore/Bengaluru   \n",
       "9                                Bangalore/Bengaluru   \n",
       "\n",
       "                                     job_description  \n",
       "0                                                ---  \n",
       "1                                                ---  \n",
       "2  Serve as primary technical lead on all phases ...  \n",
       "3  Responsibilities\\nProvide advanced analytical ...  \n",
       "4  Job Summary\\nThe candidate should be a Cyberse...  \n",
       "5  Position Description:\\nThe Artificial Intellig...  \n",
       "6                                                ---  \n",
       "7  Roles & Responsibilities\\nDevelop end to end s...  \n",
       "8  Job Role: Data Scientist\\nExperience Education...  \n",
       "9  Senior Data Scientist\\nBangalore\\nDescription\\...  "
      ]
     },
     "execution_count": 178,
     "metadata": {},
     "output_type": "execute_result"
    }
   ],
   "source": [
    "df"
   ]
  },
  {
   "cell_type": "code",
   "execution_count": null,
   "metadata": {},
   "outputs": [],
   "source": []
  },
  {
   "cell_type": "markdown",
   "metadata": {},
   "source": [
    "# 3. naukri.com"
   ]
  },
  {
   "cell_type": "code",
   "execution_count": 126,
   "metadata": {},
   "outputs": [],
   "source": [
    "driver = webdriver.Chrome('chromedriver.exe')"
   ]
  },
  {
   "cell_type": "code",
   "execution_count": 127,
   "metadata": {},
   "outputs": [],
   "source": [
    "url='https://www.naukri.com/'\n",
    "driver.get(url)"
   ]
  },
  {
   "cell_type": "code",
   "execution_count": 128,
   "metadata": {},
   "outputs": [
    {
     "data": {
      "text/plain": [
       "<selenium.webdriver.remote.webelement.WebElement (session=\"587f75480298e34230feab8c186a55a3\", element=\"7ad5fecb-1cfd-4961-b8c5-c694e9b0e2d6\")>"
      ]
     },
     "execution_count": 128,
     "metadata": {},
     "output_type": "execute_result"
    }
   ],
   "source": [
    "search_job = driver.find_element_by_id(\"qsb-keyword-sugg\")\n",
    "search_job"
   ]
  },
  {
   "cell_type": "code",
   "execution_count": 129,
   "metadata": {},
   "outputs": [],
   "source": [
    "search_job.send_keys('Data scientist')"
   ]
  },
  {
   "cell_type": "code",
   "execution_count": 130,
   "metadata": {},
   "outputs": [
    {
     "data": {
      "text/plain": [
       "<selenium.webdriver.remote.webelement.WebElement (session=\"587f75480298e34230feab8c186a55a3\", element=\"11b92556-441d-49a7-9b5d-326515b75055\")>"
      ]
     },
     "execution_count": 130,
     "metadata": {},
     "output_type": "execute_result"
    }
   ],
   "source": [
    "search_loc = driver.find_element_by_id('qsb-location-sugg')\n",
    "search_loc"
   ]
  },
  {
   "cell_type": "code",
   "execution_count": 131,
   "metadata": {},
   "outputs": [],
   "source": [
    "search_loc.send_keys('Delhi/NCR') "
   ]
  },
  {
   "cell_type": "code",
   "execution_count": 132,
   "metadata": {},
   "outputs": [],
   "source": [
    "search_btn = driver.find_element_by_xpath(\"//button[@class='btn']\")\n",
    "search_btn.click()"
   ]
  },
  {
   "cell_type": "code",
   "execution_count": 133,
   "metadata": {},
   "outputs": [],
   "source": [
    "sal_filter=driver.find_element_by_xpath(\"//i[@class='fleft naukicon naukicon-checkbox']\")\n",
    "sal_filter.click()"
   ]
  },
  {
   "cell_type": "code",
   "execution_count": 138,
   "metadata": {},
   "outputs": [
    {
     "data": {
      "text/plain": [
       "[<selenium.webdriver.remote.webelement.WebElement (session=\"587f75480298e34230feab8c186a55a3\", element=\"b4054e7b-6bf5-460a-baa3-52592bdcae1e\")>,\n",
       " <selenium.webdriver.remote.webelement.WebElement (session=\"587f75480298e34230feab8c186a55a3\", element=\"7f6a3a1a-b83a-4798-a127-d396aecd39ac\")>,\n",
       " <selenium.webdriver.remote.webelement.WebElement (session=\"587f75480298e34230feab8c186a55a3\", element=\"448d49ee-de19-4a3b-b86b-f1a4f3677ed4\")>,\n",
       " <selenium.webdriver.remote.webelement.WebElement (session=\"587f75480298e34230feab8c186a55a3\", element=\"82f99cfb-045e-4c8a-9edd-49c906afc890\")>,\n",
       " <selenium.webdriver.remote.webelement.WebElement (session=\"587f75480298e34230feab8c186a55a3\", element=\"951f8383-0b08-4464-8237-3cb7aa8fd4ea\")>,\n",
       " <selenium.webdriver.remote.webelement.WebElement (session=\"587f75480298e34230feab8c186a55a3\", element=\"6b33a62e-8c01-4802-bbeb-4cbe4fc26d6b\")>,\n",
       " <selenium.webdriver.remote.webelement.WebElement (session=\"587f75480298e34230feab8c186a55a3\", element=\"cd132b26-fbe5-491b-8bd8-a9892ade30aa\")>,\n",
       " <selenium.webdriver.remote.webelement.WebElement (session=\"587f75480298e34230feab8c186a55a3\", element=\"4e4c8307-7805-4f2f-a408-00810182d0e2\")>,\n",
       " <selenium.webdriver.remote.webelement.WebElement (session=\"587f75480298e34230feab8c186a55a3\", element=\"34006e2b-d065-4937-b20e-01c9d8abb07a\")>,\n",
       " <selenium.webdriver.remote.webelement.WebElement (session=\"587f75480298e34230feab8c186a55a3\", element=\"14ea92ba-ed6c-46e5-ba4d-89681d42f742\")>,\n",
       " <selenium.webdriver.remote.webelement.WebElement (session=\"587f75480298e34230feab8c186a55a3\", element=\"6ef3b222-fcf1-4b2b-b2d1-d7e1885ddd19\")>,\n",
       " <selenium.webdriver.remote.webelement.WebElement (session=\"587f75480298e34230feab8c186a55a3\", element=\"e30958c8-6a43-4a77-8a49-755399e98749\")>,\n",
       " <selenium.webdriver.remote.webelement.WebElement (session=\"587f75480298e34230feab8c186a55a3\", element=\"094677cf-21cc-4c3f-b8b3-62fb90dd2463\")>,\n",
       " <selenium.webdriver.remote.webelement.WebElement (session=\"587f75480298e34230feab8c186a55a3\", element=\"fadc161f-6fe3-4f1b-ac14-3dd788e7e66a\")>,\n",
       " <selenium.webdriver.remote.webelement.WebElement (session=\"587f75480298e34230feab8c186a55a3\", element=\"13d9be2b-3357-4078-97b7-fee3bbf925b5\")>,\n",
       " <selenium.webdriver.remote.webelement.WebElement (session=\"587f75480298e34230feab8c186a55a3\", element=\"a874311e-1e1d-4f1f-9764-30c5589c4489\")>,\n",
       " <selenium.webdriver.remote.webelement.WebElement (session=\"587f75480298e34230feab8c186a55a3\", element=\"c40464e7-884e-4602-8b63-00e581613907\")>,\n",
       " <selenium.webdriver.remote.webelement.WebElement (session=\"587f75480298e34230feab8c186a55a3\", element=\"31486907-c387-4eb2-9955-4677ee47bad4\")>,\n",
       " <selenium.webdriver.remote.webelement.WebElement (session=\"587f75480298e34230feab8c186a55a3\", element=\"1953ff63-f1ab-461f-8501-db124598099b\")>,\n",
       " <selenium.webdriver.remote.webelement.WebElement (session=\"587f75480298e34230feab8c186a55a3\", element=\"143f4b2f-e063-4bd1-8743-461dd33afea7\")>]"
      ]
     },
     "execution_count": 138,
     "metadata": {},
     "output_type": "execute_result"
    }
   ],
   "source": [
    "title_tags=driver.find_elements_by_xpath(\"//a[@class='title fw500 ellipsis']\")\n",
    "title_tags"
   ]
  },
  {
   "cell_type": "code",
   "execution_count": 139,
   "metadata": {},
   "outputs": [
    {
     "data": {
      "text/plain": [
       "['Data analytics / Data scientist intern (work from Home)',\n",
       " 'Data Scientist',\n",
       " 'Chaayos is Looking For Data Scientist',\n",
       " 'Junior Data Scientist',\n",
       " 'We are hiring- Data Scientist +Python- Noida',\n",
       " 'Data Scientist / Data Analyst -Business Analyst',\n",
       " 'Data Scientist',\n",
       " 'Data Scientist',\n",
       " 'Data Analyst/Scientist Big Data, Statistical Techniques',\n",
       " 'Business Analyst- Data Scientist',\n",
       " 'Senior Data Scientist',\n",
       " 'Data Scientist',\n",
       " 'Data Scientist',\n",
       " 'Data Scientist',\n",
       " 'Data Scientist',\n",
       " 'Data Scientist',\n",
       " 'Associate Data Scientist',\n",
       " 'Associate Data Scientist',\n",
       " 'Data Scientist - Python/ SQL',\n",
       " 'Data Scientist']"
      ]
     },
     "execution_count": 139,
     "metadata": {},
     "output_type": "execute_result"
    }
   ],
   "source": [
    "job_titles=[]\n",
    "for i in title_tags:\n",
    "    job_titles.append(i.text)\n",
    "job_titles"
   ]
  },
  {
   "cell_type": "code",
   "execution_count": 165,
   "metadata": {},
   "outputs": [
    {
     "data": {
      "text/plain": [
       "[<selenium.webdriver.remote.webelement.WebElement (session=\"587f75480298e34230feab8c186a55a3\", element=\"6f3eb93c-c2d5-48b7-9519-99a2419fbfb2\")>,\n",
       " <selenium.webdriver.remote.webelement.WebElement (session=\"587f75480298e34230feab8c186a55a3\", element=\"a690c2ac-f4e6-4cc1-93e0-0e0c18633172\")>,\n",
       " <selenium.webdriver.remote.webelement.WebElement (session=\"587f75480298e34230feab8c186a55a3\", element=\"220ffb7b-260f-4c08-86a7-a373ced69fa3\")>,\n",
       " <selenium.webdriver.remote.webelement.WebElement (session=\"587f75480298e34230feab8c186a55a3\", element=\"91595df8-b4a4-47e0-aacf-4b4c318476b0\")>,\n",
       " <selenium.webdriver.remote.webelement.WebElement (session=\"587f75480298e34230feab8c186a55a3\", element=\"7279d4fe-b6f2-49eb-b90a-5a0fd0a10f15\")>,\n",
       " <selenium.webdriver.remote.webelement.WebElement (session=\"587f75480298e34230feab8c186a55a3\", element=\"126fa876-6d31-4b47-87dd-b6e88ff9c4bd\")>,\n",
       " <selenium.webdriver.remote.webelement.WebElement (session=\"587f75480298e34230feab8c186a55a3\", element=\"de891839-a2f6-4569-8bff-f4f34d80b0c1\")>,\n",
       " <selenium.webdriver.remote.webelement.WebElement (session=\"587f75480298e34230feab8c186a55a3\", element=\"35918d23-aa9a-4d8a-a2e5-a6fdc77a4cc1\")>,\n",
       " <selenium.webdriver.remote.webelement.WebElement (session=\"587f75480298e34230feab8c186a55a3\", element=\"c2b314bf-3e4d-4278-9e4c-0de224626134\")>,\n",
       " <selenium.webdriver.remote.webelement.WebElement (session=\"587f75480298e34230feab8c186a55a3\", element=\"947d0901-1255-4c3a-974e-aa182c389279\")>,\n",
       " <selenium.webdriver.remote.webelement.WebElement (session=\"587f75480298e34230feab8c186a55a3\", element=\"f5e09f2e-1017-4e05-8282-abb350ebcf2d\")>,\n",
       " <selenium.webdriver.remote.webelement.WebElement (session=\"587f75480298e34230feab8c186a55a3\", element=\"262700fe-c284-45f8-a986-23413d73d3d3\")>,\n",
       " <selenium.webdriver.remote.webelement.WebElement (session=\"587f75480298e34230feab8c186a55a3\", element=\"ee98d299-9c50-49f8-9d6c-3e8ff0338440\")>,\n",
       " <selenium.webdriver.remote.webelement.WebElement (session=\"587f75480298e34230feab8c186a55a3\", element=\"68f110f7-62d9-4850-8d62-0203ee11cbbc\")>,\n",
       " <selenium.webdriver.remote.webelement.WebElement (session=\"587f75480298e34230feab8c186a55a3\", element=\"5d8e18cc-08c8-4552-b918-36aa57031940\")>,\n",
       " <selenium.webdriver.remote.webelement.WebElement (session=\"587f75480298e34230feab8c186a55a3\", element=\"7fa1c133-5179-4345-bf16-a33688850238\")>,\n",
       " <selenium.webdriver.remote.webelement.WebElement (session=\"587f75480298e34230feab8c186a55a3\", element=\"17402a76-f021-433f-b255-addc90bc8426\")>,\n",
       " <selenium.webdriver.remote.webelement.WebElement (session=\"587f75480298e34230feab8c186a55a3\", element=\"b0698b66-6d8b-47d7-99ef-781e86317295\")>,\n",
       " <selenium.webdriver.remote.webelement.WebElement (session=\"587f75480298e34230feab8c186a55a3\", element=\"9ed04b67-b803-490b-a6ec-750984639523\")>,\n",
       " <selenium.webdriver.remote.webelement.WebElement (session=\"587f75480298e34230feab8c186a55a3\", element=\"362b303f-40ae-4886-a5c5-5d5b3607734c\")>]"
      ]
     },
     "execution_count": 165,
     "metadata": {},
     "output_type": "execute_result"
    }
   ],
   "source": [
    "loc_tags=driver.find_elements_by_xpath(\"//li[@class='fleft grey-text br2 placeHolderLi location']\")\n",
    "loc_tags"
   ]
  },
  {
   "cell_type": "code",
   "execution_count": 166,
   "metadata": {},
   "outputs": [
    {
     "data": {
      "text/plain": [
       "['Kolkata, Bangalore/Bengaluru, Delhi / NCR',\n",
       " 'Mumbai, Gurgaon/Gurugram, Bangalore/Bengaluru',\n",
       " 'New Delhi',\n",
       " 'Noida(Sector-59 Noida)',\n",
       " 'Noida, Gurgaon/Gurugram, Delhi / NCR',\n",
       " 'Mumbai, Hyderabad/Secunderabad, Pune, Gurgaon/Gurugram, Chennai, Bangalore/Bengaluru',\n",
       " 'Gurgaon/Gurugram, Delhi / NCR',\n",
       " 'Noida',\n",
       " 'Gurgaon/Gurugram',\n",
       " 'Noida, Gurgaon/Gurugram',\n",
       " 'Delhi',\n",
       " 'Gurgaon/Gurugram',\n",
       " 'Gurgaon/Gurugram, Bangalore/Bengaluru',\n",
       " 'Bharuch, Jaipur, Bhopal, Mumbai, Jhansi, Nagpur, Ghaziabad, Jaunpur, Kanpur, New Delhi, Lucknow, Agra, Gurgaon/Gurugram, Rajkot, Bangalore/Bengaluru',\n",
       " 'New Delhi',\n",
       " 'Delhi',\n",
       " 'Noida',\n",
       " 'New Delhi',\n",
       " 'Noida, Gurgaon/Gurugram, Delhi / NCR',\n",
       " 'Gurgaon']"
      ]
     },
     "execution_count": 166,
     "metadata": {},
     "output_type": "execute_result"
    }
   ],
   "source": [
    "loc_titles=[]\n",
    "for i in loc_tags:\n",
    "    loc_titles.append(i.text)\n",
    "loc_titles"
   ]
  },
  {
   "cell_type": "code",
   "execution_count": 167,
   "metadata": {},
   "outputs": [
    {
     "data": {
      "text/plain": [
       "[<selenium.webdriver.remote.webelement.WebElement (session=\"587f75480298e34230feab8c186a55a3\", element=\"07a465d9-0c1f-4da7-b039-d1b2edf129ac\")>,\n",
       " <selenium.webdriver.remote.webelement.WebElement (session=\"587f75480298e34230feab8c186a55a3\", element=\"3ca1de7b-035e-4727-a12c-2a0786191b61\")>,\n",
       " <selenium.webdriver.remote.webelement.WebElement (session=\"587f75480298e34230feab8c186a55a3\", element=\"1d0529ca-079a-4bea-ba57-b2058c850351\")>,\n",
       " <selenium.webdriver.remote.webelement.WebElement (session=\"587f75480298e34230feab8c186a55a3\", element=\"62d9e374-e2d5-4738-a7cb-e0930e221524\")>,\n",
       " <selenium.webdriver.remote.webelement.WebElement (session=\"587f75480298e34230feab8c186a55a3\", element=\"6cfa7c21-eebb-4928-9f1c-6d6467a89257\")>,\n",
       " <selenium.webdriver.remote.webelement.WebElement (session=\"587f75480298e34230feab8c186a55a3\", element=\"54ce9e4f-5b00-485f-bc33-2032037828b2\")>,\n",
       " <selenium.webdriver.remote.webelement.WebElement (session=\"587f75480298e34230feab8c186a55a3\", element=\"65b53472-4b04-4e64-92e6-9885bdfcb5f6\")>,\n",
       " <selenium.webdriver.remote.webelement.WebElement (session=\"587f75480298e34230feab8c186a55a3\", element=\"4881b43d-3b4a-4b1f-87d5-e92c13b192d6\")>,\n",
       " <selenium.webdriver.remote.webelement.WebElement (session=\"587f75480298e34230feab8c186a55a3\", element=\"87aa63cb-b69a-40f5-a9e6-35da60b6da76\")>,\n",
       " <selenium.webdriver.remote.webelement.WebElement (session=\"587f75480298e34230feab8c186a55a3\", element=\"6aca4d22-fa8e-42d8-bb85-696467c2470d\")>,\n",
       " <selenium.webdriver.remote.webelement.WebElement (session=\"587f75480298e34230feab8c186a55a3\", element=\"7e482ffc-f80a-4115-b83c-4465a7d4d775\")>,\n",
       " <selenium.webdriver.remote.webelement.WebElement (session=\"587f75480298e34230feab8c186a55a3\", element=\"1422e555-9d3f-4cd5-a2e4-c170469ab8d9\")>,\n",
       " <selenium.webdriver.remote.webelement.WebElement (session=\"587f75480298e34230feab8c186a55a3\", element=\"91075183-9860-493b-8a26-038e328343c0\")>,\n",
       " <selenium.webdriver.remote.webelement.WebElement (session=\"587f75480298e34230feab8c186a55a3\", element=\"05b465de-b8d7-4692-a6ba-aad80ebc811f\")>,\n",
       " <selenium.webdriver.remote.webelement.WebElement (session=\"587f75480298e34230feab8c186a55a3\", element=\"97dec7d2-53f7-44be-84be-34c4a2736005\")>,\n",
       " <selenium.webdriver.remote.webelement.WebElement (session=\"587f75480298e34230feab8c186a55a3\", element=\"9ebce963-0362-4d61-9212-4f913297e720\")>,\n",
       " <selenium.webdriver.remote.webelement.WebElement (session=\"587f75480298e34230feab8c186a55a3\", element=\"d8c33a51-d7a1-43d8-a13f-84b54bd73432\")>,\n",
       " <selenium.webdriver.remote.webelement.WebElement (session=\"587f75480298e34230feab8c186a55a3\", element=\"56a3a962-c60a-4664-96dd-5de2fee73bc9\")>,\n",
       " <selenium.webdriver.remote.webelement.WebElement (session=\"587f75480298e34230feab8c186a55a3\", element=\"c80f5203-b2a0-46ca-8e88-ee79a4144026\")>,\n",
       " <selenium.webdriver.remote.webelement.WebElement (session=\"587f75480298e34230feab8c186a55a3\", element=\"2e17d182-e509-4cb7-bc46-ba9a4eee5720\")>]"
      ]
     },
     "execution_count": 167,
     "metadata": {},
     "output_type": "execute_result"
    }
   ],
   "source": [
    "name_tags=driver.find_elements_by_xpath(\"//a[@class='subTitle ellipsis fleft']\")\n",
    "name_tags"
   ]
  },
  {
   "cell_type": "code",
   "execution_count": 168,
   "metadata": {},
   "outputs": [
    {
     "data": {
      "text/plain": [
       "['TalkValley LLC',\n",
       " 'Fractal Analytics',\n",
       " 'Chaayos (Sunshine Teahouse Pvt. Ltd.)',\n",
       " 'R Systems International Ltd.',\n",
       " 'RANDSTAD INDIA PVT LTD',\n",
       " 'Inflexion Analytix Private Limited',\n",
       " 'Milliman India Pvt Ltd',\n",
       " 'NEC CORPORATION INDIA PRIVATE LIMITED',\n",
       " 'The Search House (A Div of JSD Search House Pvt. L td.)',\n",
       " 'Wipro',\n",
       " 'iNICU',\n",
       " 'Evalueserve.com Pvt. Ltd',\n",
       " 'BlackBuck',\n",
       " 'Country Veggie',\n",
       " 'Mahajan Imaging',\n",
       " 'Mahajan Imaging',\n",
       " 'Right Step Consulting',\n",
       " 'Blow Trumpet Solutions',\n",
       " 'Schlesinger Group',\n",
       " 'itForte Staffing Services Private Ltd.']"
      ]
     },
     "execution_count": 168,
     "metadata": {},
     "output_type": "execute_result"
    }
   ],
   "source": [
    "com_titles=[]\n",
    "for i in name_tags:\n",
    "    com_titles.append(i.text)\n",
    "com_titles"
   ]
  },
  {
   "cell_type": "code",
   "execution_count": 169,
   "metadata": {},
   "outputs": [
    {
     "data": {
      "text/plain": [
       "[<selenium.webdriver.remote.webelement.WebElement (session=\"587f75480298e34230feab8c186a55a3\", element=\"1d1d7e60-955d-406a-a227-215a06fff52d\")>,\n",
       " <selenium.webdriver.remote.webelement.WebElement (session=\"587f75480298e34230feab8c186a55a3\", element=\"6c54dd31-4d3f-4f88-90d5-f9ad8d1ae294\")>,\n",
       " <selenium.webdriver.remote.webelement.WebElement (session=\"587f75480298e34230feab8c186a55a3\", element=\"1090dca3-3d16-4fc0-b0a2-6c18e8f4f9bc\")>,\n",
       " <selenium.webdriver.remote.webelement.WebElement (session=\"587f75480298e34230feab8c186a55a3\", element=\"4c7e2f9b-ea71-43e1-aa9c-78e83fbba8c2\")>,\n",
       " <selenium.webdriver.remote.webelement.WebElement (session=\"587f75480298e34230feab8c186a55a3\", element=\"41ce6847-d7b1-44ff-9d36-b1bd394e0233\")>,\n",
       " <selenium.webdriver.remote.webelement.WebElement (session=\"587f75480298e34230feab8c186a55a3\", element=\"6f687687-6ff3-40e3-8332-7db5d557d5df\")>,\n",
       " <selenium.webdriver.remote.webelement.WebElement (session=\"587f75480298e34230feab8c186a55a3\", element=\"0664c989-63ac-401b-8076-fdd6310b5f8b\")>,\n",
       " <selenium.webdriver.remote.webelement.WebElement (session=\"587f75480298e34230feab8c186a55a3\", element=\"76f569a7-36bd-477f-ae2b-99e34987392a\")>,\n",
       " <selenium.webdriver.remote.webelement.WebElement (session=\"587f75480298e34230feab8c186a55a3\", element=\"7755405e-bd38-45f9-b1c0-1f204fa5c5ca\")>,\n",
       " <selenium.webdriver.remote.webelement.WebElement (session=\"587f75480298e34230feab8c186a55a3\", element=\"a9381515-fd48-41f8-a865-19058303e8c3\")>,\n",
       " <selenium.webdriver.remote.webelement.WebElement (session=\"587f75480298e34230feab8c186a55a3\", element=\"b1917868-5557-4c59-8eba-b69a90440b35\")>,\n",
       " <selenium.webdriver.remote.webelement.WebElement (session=\"587f75480298e34230feab8c186a55a3\", element=\"63d95a8d-b704-4047-a179-6703a69ccfcd\")>,\n",
       " <selenium.webdriver.remote.webelement.WebElement (session=\"587f75480298e34230feab8c186a55a3\", element=\"91591880-6693-4ec7-8f50-787440853bd2\")>,\n",
       " <selenium.webdriver.remote.webelement.WebElement (session=\"587f75480298e34230feab8c186a55a3\", element=\"61fb0fb1-39e6-4a5d-80c1-b0949ace3a5a\")>,\n",
       " <selenium.webdriver.remote.webelement.WebElement (session=\"587f75480298e34230feab8c186a55a3\", element=\"97600a2b-6f17-4e90-9dce-fef7e7d3b1a9\")>,\n",
       " <selenium.webdriver.remote.webelement.WebElement (session=\"587f75480298e34230feab8c186a55a3\", element=\"4d31ed8b-5e8f-4070-a92a-0663bd9458c7\")>,\n",
       " <selenium.webdriver.remote.webelement.WebElement (session=\"587f75480298e34230feab8c186a55a3\", element=\"47a91456-dfa4-426a-ae68-997ee33675d7\")>,\n",
       " <selenium.webdriver.remote.webelement.WebElement (session=\"587f75480298e34230feab8c186a55a3\", element=\"e286fb40-753e-4262-a798-8dee71fa7faf\")>,\n",
       " <selenium.webdriver.remote.webelement.WebElement (session=\"587f75480298e34230feab8c186a55a3\", element=\"2015eeb4-ed11-4fe9-9725-9428b949c4a0\")>,\n",
       " <selenium.webdriver.remote.webelement.WebElement (session=\"587f75480298e34230feab8c186a55a3\", element=\"f853fc2b-125e-4866-8d6b-6284a7d0db55\")>]"
      ]
     },
     "execution_count": 169,
     "metadata": {},
     "output_type": "execute_result"
    }
   ],
   "source": [
    "exp_tags=driver.find_elements_by_xpath(\"//li[@class='fleft grey-text br2 placeHolderLi experience']\")\n",
    "exp_tags"
   ]
  },
  {
   "cell_type": "code",
   "execution_count": 170,
   "metadata": {},
   "outputs": [
    {
     "data": {
      "text/plain": [
       "['0-5 Yrs',\n",
       " '3-7 Yrs',\n",
       " '0-5 Yrs',\n",
       " '3-5 Yrs',\n",
       " '4-7 Yrs',\n",
       " '0-3 Yrs',\n",
       " '2-5 Yrs',\n",
       " '3-8 Yrs',\n",
       " '2-7 Yrs',\n",
       " '2-5 Yrs',\n",
       " '1-5 Yrs',\n",
       " '4-7 Yrs',\n",
       " '3-7 Yrs',\n",
       " '1-3 Yrs',\n",
       " '2-6 Yrs',\n",
       " '2-6 Yrs',\n",
       " '3-6 Yrs',\n",
       " '1-5 Yrs',\n",
       " '3-6 Yrs',\n",
       " '3-8 Yrs']"
      ]
     },
     "execution_count": 170,
     "metadata": {},
     "output_type": "execute_result"
    }
   ],
   "source": [
    "exp_titles=[]\n",
    "for i in exp_tags:\n",
    "    exp_titles.append(i.text)\n",
    "exp_titles"
   ]
  },
  {
   "cell_type": "code",
   "execution_count": 171,
   "metadata": {},
   "outputs": [
    {
     "name": "stdout",
     "output_type": "stream",
     "text": [
      "20 20 20 20\n"
     ]
    }
   ],
   "source": [
    "print(len(job_titles),len(df),len(com_titles),len(exp_titles))"
   ]
  },
  {
   "cell_type": "code",
   "execution_count": 174,
   "metadata": {},
   "outputs": [],
   "source": [
    "jobs=pd.DataFrame({})\n",
    "jobs['title']=job_titles\n",
    "jobs['location']=loc_titles\n",
    "jobs['company']=com_titles\n",
    "jobs['experience']=exp_titles"
   ]
  },
  {
   "cell_type": "code",
   "execution_count": 175,
   "metadata": {},
   "outputs": [
    {
     "data": {
      "text/html": [
       "<div>\n",
       "<style scoped>\n",
       "    .dataframe tbody tr th:only-of-type {\n",
       "        vertical-align: middle;\n",
       "    }\n",
       "\n",
       "    .dataframe tbody tr th {\n",
       "        vertical-align: top;\n",
       "    }\n",
       "\n",
       "    .dataframe thead th {\n",
       "        text-align: right;\n",
       "    }\n",
       "</style>\n",
       "<table border=\"1\" class=\"dataframe\">\n",
       "  <thead>\n",
       "    <tr style=\"text-align: right;\">\n",
       "      <th></th>\n",
       "      <th>title</th>\n",
       "      <th>location</th>\n",
       "      <th>company</th>\n",
       "      <th>experience</th>\n",
       "    </tr>\n",
       "  </thead>\n",
       "  <tbody>\n",
       "    <tr>\n",
       "      <th>0</th>\n",
       "      <td>Data analytics / Data scientist intern (work f...</td>\n",
       "      <td>Kolkata, Bangalore/Bengaluru, Delhi / NCR</td>\n",
       "      <td>TalkValley LLC</td>\n",
       "      <td>0-5 Yrs</td>\n",
       "    </tr>\n",
       "    <tr>\n",
       "      <th>1</th>\n",
       "      <td>Data Scientist</td>\n",
       "      <td>Mumbai, Gurgaon/Gurugram, Bangalore/Bengaluru</td>\n",
       "      <td>Fractal Analytics</td>\n",
       "      <td>3-7 Yrs</td>\n",
       "    </tr>\n",
       "    <tr>\n",
       "      <th>2</th>\n",
       "      <td>Chaayos is Looking For Data Scientist</td>\n",
       "      <td>New Delhi</td>\n",
       "      <td>Chaayos (Sunshine Teahouse Pvt. Ltd.)</td>\n",
       "      <td>0-5 Yrs</td>\n",
       "    </tr>\n",
       "    <tr>\n",
       "      <th>3</th>\n",
       "      <td>Junior Data Scientist</td>\n",
       "      <td>Noida(Sector-59 Noida)</td>\n",
       "      <td>R Systems International Ltd.</td>\n",
       "      <td>3-5 Yrs</td>\n",
       "    </tr>\n",
       "    <tr>\n",
       "      <th>4</th>\n",
       "      <td>We are hiring- Data Scientist +Python- Noida</td>\n",
       "      <td>Noida, Gurgaon/Gurugram, Delhi / NCR</td>\n",
       "      <td>RANDSTAD INDIA PVT LTD</td>\n",
       "      <td>4-7 Yrs</td>\n",
       "    </tr>\n",
       "    <tr>\n",
       "      <th>5</th>\n",
       "      <td>Data Scientist / Data Analyst -Business Analyst</td>\n",
       "      <td>Mumbai, Hyderabad/Secunderabad, Pune, Gurgaon/...</td>\n",
       "      <td>Inflexion Analytix Private Limited</td>\n",
       "      <td>0-3 Yrs</td>\n",
       "    </tr>\n",
       "    <tr>\n",
       "      <th>6</th>\n",
       "      <td>Data Scientist</td>\n",
       "      <td>Gurgaon/Gurugram, Delhi / NCR</td>\n",
       "      <td>Milliman India Pvt Ltd</td>\n",
       "      <td>2-5 Yrs</td>\n",
       "    </tr>\n",
       "    <tr>\n",
       "      <th>7</th>\n",
       "      <td>Data Scientist</td>\n",
       "      <td>Noida</td>\n",
       "      <td>NEC CORPORATION INDIA PRIVATE LIMITED</td>\n",
       "      <td>3-8 Yrs</td>\n",
       "    </tr>\n",
       "    <tr>\n",
       "      <th>8</th>\n",
       "      <td>Data Analyst/Scientist Big Data, Statistical T...</td>\n",
       "      <td>Gurgaon/Gurugram</td>\n",
       "      <td>The Search House (A Div of JSD Search House Pv...</td>\n",
       "      <td>2-7 Yrs</td>\n",
       "    </tr>\n",
       "    <tr>\n",
       "      <th>9</th>\n",
       "      <td>Business Analyst- Data Scientist</td>\n",
       "      <td>Noida, Gurgaon/Gurugram</td>\n",
       "      <td>Wipro</td>\n",
       "      <td>2-5 Yrs</td>\n",
       "    </tr>\n",
       "    <tr>\n",
       "      <th>10</th>\n",
       "      <td>Senior Data Scientist</td>\n",
       "      <td>Delhi</td>\n",
       "      <td>iNICU</td>\n",
       "      <td>1-5 Yrs</td>\n",
       "    </tr>\n",
       "    <tr>\n",
       "      <th>11</th>\n",
       "      <td>Data Scientist</td>\n",
       "      <td>Gurgaon/Gurugram</td>\n",
       "      <td>Evalueserve.com Pvt. Ltd</td>\n",
       "      <td>4-7 Yrs</td>\n",
       "    </tr>\n",
       "    <tr>\n",
       "      <th>12</th>\n",
       "      <td>Data Scientist</td>\n",
       "      <td>Gurgaon/Gurugram, Bangalore/Bengaluru</td>\n",
       "      <td>BlackBuck</td>\n",
       "      <td>3-7 Yrs</td>\n",
       "    </tr>\n",
       "    <tr>\n",
       "      <th>13</th>\n",
       "      <td>Data Scientist</td>\n",
       "      <td>Bharuch, Jaipur, Bhopal, Mumbai, Jhansi, Nagpu...</td>\n",
       "      <td>Country Veggie</td>\n",
       "      <td>1-3 Yrs</td>\n",
       "    </tr>\n",
       "    <tr>\n",
       "      <th>14</th>\n",
       "      <td>Data Scientist</td>\n",
       "      <td>New Delhi</td>\n",
       "      <td>Mahajan Imaging</td>\n",
       "      <td>2-6 Yrs</td>\n",
       "    </tr>\n",
       "    <tr>\n",
       "      <th>15</th>\n",
       "      <td>Data Scientist</td>\n",
       "      <td>Delhi</td>\n",
       "      <td>Mahajan Imaging</td>\n",
       "      <td>2-6 Yrs</td>\n",
       "    </tr>\n",
       "    <tr>\n",
       "      <th>16</th>\n",
       "      <td>Associate Data Scientist</td>\n",
       "      <td>Noida</td>\n",
       "      <td>Right Step Consulting</td>\n",
       "      <td>3-6 Yrs</td>\n",
       "    </tr>\n",
       "    <tr>\n",
       "      <th>17</th>\n",
       "      <td>Associate Data Scientist</td>\n",
       "      <td>New Delhi</td>\n",
       "      <td>Blow Trumpet Solutions</td>\n",
       "      <td>1-5 Yrs</td>\n",
       "    </tr>\n",
       "    <tr>\n",
       "      <th>18</th>\n",
       "      <td>Data Scientist - Python/ SQL</td>\n",
       "      <td>Noida, Gurgaon/Gurugram, Delhi / NCR</td>\n",
       "      <td>Schlesinger Group</td>\n",
       "      <td>3-6 Yrs</td>\n",
       "    </tr>\n",
       "    <tr>\n",
       "      <th>19</th>\n",
       "      <td>Data Scientist</td>\n",
       "      <td>Gurgaon</td>\n",
       "      <td>itForte Staffing Services Private Ltd.</td>\n",
       "      <td>3-8 Yrs</td>\n",
       "    </tr>\n",
       "  </tbody>\n",
       "</table>\n",
       "</div>"
      ],
      "text/plain": [
       "                                                title  \\\n",
       "0   Data analytics / Data scientist intern (work f...   \n",
       "1                                      Data Scientist   \n",
       "2               Chaayos is Looking For Data Scientist   \n",
       "3                               Junior Data Scientist   \n",
       "4        We are hiring- Data Scientist +Python- Noida   \n",
       "5     Data Scientist / Data Analyst -Business Analyst   \n",
       "6                                      Data Scientist   \n",
       "7                                      Data Scientist   \n",
       "8   Data Analyst/Scientist Big Data, Statistical T...   \n",
       "9                    Business Analyst- Data Scientist   \n",
       "10                              Senior Data Scientist   \n",
       "11                                     Data Scientist   \n",
       "12                                     Data Scientist   \n",
       "13                                     Data Scientist   \n",
       "14                                     Data Scientist   \n",
       "15                                     Data Scientist   \n",
       "16                           Associate Data Scientist   \n",
       "17                           Associate Data Scientist   \n",
       "18                       Data Scientist - Python/ SQL   \n",
       "19                                     Data Scientist   \n",
       "\n",
       "                                             location  \\\n",
       "0           Kolkata, Bangalore/Bengaluru, Delhi / NCR   \n",
       "1       Mumbai, Gurgaon/Gurugram, Bangalore/Bengaluru   \n",
       "2                                           New Delhi   \n",
       "3                              Noida(Sector-59 Noida)   \n",
       "4                Noida, Gurgaon/Gurugram, Delhi / NCR   \n",
       "5   Mumbai, Hyderabad/Secunderabad, Pune, Gurgaon/...   \n",
       "6                       Gurgaon/Gurugram, Delhi / NCR   \n",
       "7                                               Noida   \n",
       "8                                    Gurgaon/Gurugram   \n",
       "9                             Noida, Gurgaon/Gurugram   \n",
       "10                                              Delhi   \n",
       "11                                   Gurgaon/Gurugram   \n",
       "12              Gurgaon/Gurugram, Bangalore/Bengaluru   \n",
       "13  Bharuch, Jaipur, Bhopal, Mumbai, Jhansi, Nagpu...   \n",
       "14                                          New Delhi   \n",
       "15                                              Delhi   \n",
       "16                                              Noida   \n",
       "17                                          New Delhi   \n",
       "18               Noida, Gurgaon/Gurugram, Delhi / NCR   \n",
       "19                                            Gurgaon   \n",
       "\n",
       "                                              company experience  \n",
       "0                                      TalkValley LLC    0-5 Yrs  \n",
       "1                                   Fractal Analytics    3-7 Yrs  \n",
       "2               Chaayos (Sunshine Teahouse Pvt. Ltd.)    0-5 Yrs  \n",
       "3                        R Systems International Ltd.    3-5 Yrs  \n",
       "4                              RANDSTAD INDIA PVT LTD    4-7 Yrs  \n",
       "5                  Inflexion Analytix Private Limited    0-3 Yrs  \n",
       "6                              Milliman India Pvt Ltd    2-5 Yrs  \n",
       "7               NEC CORPORATION INDIA PRIVATE LIMITED    3-8 Yrs  \n",
       "8   The Search House (A Div of JSD Search House Pv...    2-7 Yrs  \n",
       "9                                               Wipro    2-5 Yrs  \n",
       "10                                              iNICU    1-5 Yrs  \n",
       "11                           Evalueserve.com Pvt. Ltd    4-7 Yrs  \n",
       "12                                          BlackBuck    3-7 Yrs  \n",
       "13                                     Country Veggie    1-3 Yrs  \n",
       "14                                    Mahajan Imaging    2-6 Yrs  \n",
       "15                                    Mahajan Imaging    2-6 Yrs  \n",
       "16                              Right Step Consulting    3-6 Yrs  \n",
       "17                             Blow Trumpet Solutions    1-5 Yrs  \n",
       "18                                  Schlesinger Group    3-6 Yrs  \n",
       "19             itForte Staffing Services Private Ltd.    3-8 Yrs  "
      ]
     },
     "execution_count": 175,
     "metadata": {},
     "output_type": "execute_result"
    }
   ],
   "source": [
    "jobs"
   ]
  },
  {
   "cell_type": "markdown",
   "metadata": {},
   "source": [
    "# 4    https://www.glassdoor.co.in/index.htm"
   ]
  },
  {
   "cell_type": "code",
   "execution_count": 3,
   "metadata": {},
   "outputs": [],
   "source": [
    "driver = webdriver.Chrome('chromedriver.exe')"
   ]
  },
  {
   "cell_type": "code",
   "execution_count": 4,
   "metadata": {},
   "outputs": [],
   "source": [
    "url='https://www.glassdoor.co.in/index.htm'\n",
    "driver.get(url)"
   ]
  },
  {
   "cell_type": "markdown",
   "metadata": {},
   "source": [
    "# 5  https://www.glassdoor.co.in/Salaries/index.htm"
   ]
  },
  {
   "cell_type": "code",
   "execution_count": 36,
   "metadata": {},
   "outputs": [],
   "source": [
    "driver = webdriver.Chrome('chromedriver.exe')"
   ]
  },
  {
   "cell_type": "code",
   "execution_count": 37,
   "metadata": {},
   "outputs": [],
   "source": [
    "url='https://www.glassdoor.co.in/Salaries/index.htm'\n",
    "driver.get(url)"
   ]
  },
  {
   "cell_type": "code",
   "execution_count": 38,
   "metadata": {},
   "outputs": [
    {
     "data": {
      "text/plain": [
       "<selenium.webdriver.remote.webelement.WebElement (session=\"3c96ac59425dcfcc1781fb3f6de88806\", element=\"1c4136d9-e4a2-4a87-a3f3-c03f28a31ab7\")>"
      ]
     },
     "execution_count": 38,
     "metadata": {},
     "output_type": "execute_result"
    }
   ],
   "source": [
    "search_job = driver.find_element_by_id(\"KeywordSearch\")\n",
    "search_job"
   ]
  },
  {
   "cell_type": "code",
   "execution_count": 39,
   "metadata": {},
   "outputs": [],
   "source": [
    "search_job.send_keys('Data scientist')"
   ]
  },
  {
   "cell_type": "code",
   "execution_count": 40,
   "metadata": {},
   "outputs": [
    {
     "data": {
      "text/plain": [
       "<selenium.webdriver.remote.webelement.WebElement (session=\"3c96ac59425dcfcc1781fb3f6de88806\", element=\"499d31bf-32a7-4d0b-8fd6-38dfbaf01d7a\")>"
      ]
     },
     "execution_count": 40,
     "metadata": {},
     "output_type": "execute_result"
    }
   ],
   "source": [
    "search_loc = driver.find_element_by_id('LocationSearch')\n",
    "search_loc"
   ]
  },
  {
   "cell_type": "code",
   "execution_count": 41,
   "metadata": {},
   "outputs": [],
   "source": [
    "search_loc.send_keys('Noida(India)') "
   ]
  },
  {
   "cell_type": "code",
   "execution_count": 42,
   "metadata": {},
   "outputs": [],
   "source": [
    "search_btn = driver.find_element_by_id('HeroSearchButton')\n",
    "search_btn.click()"
   ]
  },
  {
   "cell_type": "markdown",
   "metadata": {},
   "source": [
    "# 6. 100 sunglasses listings on flipkart.com"
   ]
  },
  {
   "cell_type": "code",
   "execution_count": 24,
   "metadata": {},
   "outputs": [],
   "source": [
    "driver = webdriver.Chrome('chromedriver.exe')"
   ]
  },
  {
   "cell_type": "code",
   "execution_count": 25,
   "metadata": {},
   "outputs": [],
   "source": [
    "url='https://www.flipkart.com/'\n",
    "driver.get(url)"
   ]
  },
  {
   "cell_type": "code",
   "execution_count": 26,
   "metadata": {},
   "outputs": [
    {
     "data": {
      "text/plain": [
       "<selenium.webdriver.remote.webelement.WebElement (session=\"559a6ff4f2cbd259d9acad1cc9002669\", element=\"b2a75d86-c51b-4f80-8d2f-2979e97c26ec\")>"
      ]
     },
     "execution_count": 26,
     "metadata": {},
     "output_type": "execute_result"
    }
   ],
   "source": [
    "search_prod = driver.find_element_by_xpath(\"//input[@title='Search for products, brands and more']\")\n",
    "search_prod"
   ]
  },
  {
   "cell_type": "code",
   "execution_count": 27,
   "metadata": {},
   "outputs": [],
   "source": [
    "search_prod.send_keys('sunglasses')"
   ]
  },
  {
   "cell_type": "code",
   "execution_count": 29,
   "metadata": {},
   "outputs": [],
   "source": [
    "search_btn = driver.find_element_by_xpath(\"//button[@class='L0Z3Pu']\")\n",
    "search_btn.click()"
   ]
  },
  {
   "cell_type": "code",
   "execution_count": 30,
   "metadata": {},
   "outputs": [],
   "source": [
    "brand=[]\n",
    "description=[]\n",
    "price=[]\n",
    "discount=[]"
   ]
  },
  {
   "cell_type": "code",
   "execution_count": 31,
   "metadata": {},
   "outputs": [],
   "source": [
    "time.sleep(3)\n",
    "start=0\n",
    "end=4\n",
    "for page in range(start,end):\n",
    "    brands=driver.find_elements_by_class_name('_2WkVRV')\n",
    "    for i in brands:\n",
    "        brand.append(i.text)\n",
    "    "
   ]
  },
  {
   "cell_type": "code",
   "execution_count": 45,
   "metadata": {},
   "outputs": [
    {
     "name": "stdout",
     "output_type": "stream",
     "text": [
      "160\n"
     ]
    }
   ],
   "source": [
    "print(len(brand))"
   ]
  },
  {
   "cell_type": "code",
   "execution_count": 33,
   "metadata": {},
   "outputs": [],
   "source": [
    "desc=driver.find_elements_by_xpath('//a[@class=\"IRpwTa\"]')\n",
    "for i in desc:\n",
    "        description.append(i.text)\n",
    "    "
   ]
  },
  {
   "cell_type": "code",
   "execution_count": 42,
   "metadata": {},
   "outputs": [
    {
     "name": "stdout",
     "output_type": "stream",
     "text": [
      "40\n"
     ]
    }
   ],
   "source": [
    "print(len(description))"
   ]
  },
  {
   "cell_type": "code",
   "execution_count": 34,
   "metadata": {},
   "outputs": [],
   "source": [
    "prices=driver.find_elements_by_xpath(\"//div[@class='_30jeq3']\")\n",
    "for i in prices:\n",
    "        price.append(i.text)\n",
    "    "
   ]
  },
  {
   "cell_type": "code",
   "execution_count": 43,
   "metadata": {},
   "outputs": [
    {
     "name": "stdout",
     "output_type": "stream",
     "text": [
      "40\n"
     ]
    }
   ],
   "source": [
    "print(len(prices))"
   ]
  },
  {
   "cell_type": "code",
   "execution_count": 35,
   "metadata": {},
   "outputs": [],
   "source": [
    "disc=driver.find_elements_by_xpath(\"//div[@class='_3Ay6Sb']//span\")\n",
    "for i in disc:\n",
    "        discount.append(i.text)\n",
    "  "
   ]
  },
  {
   "cell_type": "code",
   "execution_count": 44,
   "metadata": {},
   "outputs": [
    {
     "name": "stdout",
     "output_type": "stream",
     "text": [
      "40\n"
     ]
    }
   ],
   "source": [
    "print(len(discount))"
   ]
  },
  {
   "cell_type": "code",
   "execution_count": 39,
   "metadata": {},
   "outputs": [],
   "source": [
    "nxt_button=driver.find_elements_by_xpath(\"//a[@class='_1LKTO3']\")\n",
    "try:\n",
    "        driver.get(nxt_button[1].get_attribute('href'))\n",
    "except:  \n",
    "        driver.get(nxt_button[0].get_attribute('href'))"
   ]
  },
  {
   "cell_type": "code",
   "execution_count": 154,
   "metadata": {},
   "outputs": [],
   "source": [
    "time.sleep(3)        \n",
    "a=({'Brand':brand[:100],\n",
    "                'Description':description[:100],\n",
    "                'Price':price[:100],\n",
    "                'Discount':discount[:100]})"
   ]
  },
  {
   "cell_type": "code",
   "execution_count": 155,
   "metadata": {},
   "outputs": [],
   "source": [
    "df = pd.DataFrame.from_dict(a, orient='index')\n",
    "df = df.transpose()"
   ]
  },
  {
   "cell_type": "code",
   "execution_count": 156,
   "metadata": {},
   "outputs": [
    {
     "data": {
      "text/html": [
       "<div>\n",
       "<style scoped>\n",
       "    .dataframe tbody tr th:only-of-type {\n",
       "        vertical-align: middle;\n",
       "    }\n",
       "\n",
       "    .dataframe tbody tr th {\n",
       "        vertical-align: top;\n",
       "    }\n",
       "\n",
       "    .dataframe thead th {\n",
       "        text-align: right;\n",
       "    }\n",
       "</style>\n",
       "<table border=\"1\" class=\"dataframe\">\n",
       "  <thead>\n",
       "    <tr style=\"text-align: right;\">\n",
       "      <th></th>\n",
       "      <th>Brand</th>\n",
       "      <th>Description</th>\n",
       "      <th>Price</th>\n",
       "      <th>Discount</th>\n",
       "    </tr>\n",
       "  </thead>\n",
       "  <tbody>\n",
       "    <tr>\n",
       "      <th>0</th>\n",
       "      <td>Chevit</td>\n",
       "      <td>White Sneakers Sneakers For Men  (White)</td>\n",
       "      <td>53,990</td>\n",
       "      <td>76% off</td>\n",
       "    </tr>\n",
       "    <tr>\n",
       "      <th>1</th>\n",
       "      <td>ADIDAS</td>\n",
       "      <td>Sneakers For Men  (White)</td>\n",
       "      <td>74,990</td>\n",
       "      <td>52% off</td>\n",
       "    </tr>\n",
       "    <tr>\n",
       "      <th>2</th>\n",
       "      <td>CALCADOS</td>\n",
       "      <td>Men's Combo Pack of 02 Shoes for Men Casual Sn...</td>\n",
       "      <td>25,990</td>\n",
       "      <td>62% off</td>\n",
       "    </tr>\n",
       "    <tr>\n",
       "      <th>3</th>\n",
       "      <td>Alfiya</td>\n",
       "      <td>Combo Pack Of 3 Sneakers For Men  (Black, Yellow)</td>\n",
       "      <td>27,904</td>\n",
       "      <td>62% off</td>\n",
       "    </tr>\n",
       "    <tr>\n",
       "      <th>4</th>\n",
       "      <td>India hub</td>\n",
       "      <td>Sneakers For Men  (White, Black)</td>\n",
       "      <td>3,231</td>\n",
       "      <td>87% off</td>\n",
       "    </tr>\n",
       "    <tr>\n",
       "      <th>...</th>\n",
       "      <td>...</td>\n",
       "      <td>...</td>\n",
       "      <td>...</td>\n",
       "      <td>...</td>\n",
       "    </tr>\n",
       "    <tr>\n",
       "      <th>95</th>\n",
       "      <td>Numenzo</td>\n",
       "      <td>Perfect &amp; Affordable Combo Pack of 02 Pairs Sn...</td>\n",
       "      <td>None</td>\n",
       "      <td>None</td>\n",
       "    </tr>\n",
       "    <tr>\n",
       "      <th>96</th>\n",
       "      <td>Stefano Rads</td>\n",
       "      <td>1002 Sneakers For Men  (White)</td>\n",
       "      <td>None</td>\n",
       "      <td>None</td>\n",
       "    </tr>\n",
       "    <tr>\n",
       "      <th>97</th>\n",
       "      <td>Kraasa</td>\n",
       "      <td>Sneakers For Men  (White)</td>\n",
       "      <td>None</td>\n",
       "      <td>None</td>\n",
       "    </tr>\n",
       "    <tr>\n",
       "      <th>98</th>\n",
       "      <td>SCATCHITE</td>\n",
       "      <td>Premium quality Sneakers For Men  (Blue)</td>\n",
       "      <td>None</td>\n",
       "      <td>None</td>\n",
       "    </tr>\n",
       "    <tr>\n",
       "      <th>99</th>\n",
       "      <td>Absolute comfort</td>\n",
       "      <td>Casual Sneakers Black Shoes For Men Sneakers F...</td>\n",
       "      <td>None</td>\n",
       "      <td>None</td>\n",
       "    </tr>\n",
       "  </tbody>\n",
       "</table>\n",
       "<p>100 rows × 4 columns</p>\n",
       "</div>"
      ],
      "text/plain": [
       "               Brand                                        Description  \\\n",
       "0             Chevit           White Sneakers Sneakers For Men  (White)   \n",
       "1             ADIDAS                          Sneakers For Men  (White)   \n",
       "2           CALCADOS  Men's Combo Pack of 02 Shoes for Men Casual Sn...   \n",
       "3             Alfiya  Combo Pack Of 3 Sneakers For Men  (Black, Yellow)   \n",
       "4          India hub                   Sneakers For Men  (White, Black)   \n",
       "..               ...                                                ...   \n",
       "95           Numenzo  Perfect & Affordable Combo Pack of 02 Pairs Sn...   \n",
       "96      Stefano Rads                     1002 Sneakers For Men  (White)   \n",
       "97            Kraasa                          Sneakers For Men  (White)   \n",
       "98         SCATCHITE           Premium quality Sneakers For Men  (Blue)   \n",
       "99  Absolute comfort  Casual Sneakers Black Shoes For Men Sneakers F...   \n",
       "\n",
       "     Price Discount  \n",
       "0   53,990  76% off  \n",
       "1   74,990  52% off  \n",
       "2   25,990  62% off  \n",
       "3   27,904  62% off  \n",
       "4    3,231  87% off  \n",
       "..     ...      ...  \n",
       "95    None     None  \n",
       "96    None     None  \n",
       "97    None     None  \n",
       "98    None     None  \n",
       "99    None     None  \n",
       "\n",
       "[100 rows x 4 columns]"
      ]
     },
     "execution_count": 156,
     "metadata": {},
     "output_type": "execute_result"
    }
   ],
   "source": [
    "df"
   ]
  },
  {
   "cell_type": "code",
   "execution_count": null,
   "metadata": {},
   "outputs": [],
   "source": []
  },
  {
   "cell_type": "markdown",
   "metadata": {},
   "source": [
    "# 7. 100 reviews data from flipkart.com for iphone11 phone"
   ]
  },
  {
   "cell_type": "code",
   "execution_count": 61,
   "metadata": {},
   "outputs": [],
   "source": [
    "driver = webdriver.Chrome('chromedriver.exe')"
   ]
  },
  {
   "cell_type": "code",
   "execution_count": 62,
   "metadata": {},
   "outputs": [],
   "source": [
    "url='https://www.flipkart.com/apple-iphone-11-black-64-gb-includes\u0002earpods-power\u0002adapter/p/itm0f37c2240b217?pid=MOBFKCTSVZAXUHGR&lid=LSTMOBFKCTSVZAXUHGREPBFGI&marketplace'\n",
    "driver.get(url)"
   ]
  },
  {
   "cell_type": "code",
   "execution_count": 63,
   "metadata": {},
   "outputs": [],
   "source": [
    "urls=[]\n",
    "short_review=[]\n",
    "complete_review=[]\n",
    "stars=[]"
   ]
  },
  {
   "cell_type": "code",
   "execution_count": 66,
   "metadata": {},
   "outputs": [],
   "source": [
    "time.sleep(4)\n",
    "for i in range(10):\n",
    "    url=driver.find_element_by_xpath(\"//a[@class='ge-49M']\").get_attribute('href')\n",
    "    driver.get(url)"
   ]
  },
  {
   "cell_type": "code",
   "execution_count": 67,
   "metadata": {},
   "outputs": [],
   "source": [
    "for j in driver.find_elements_by_xpath(\"//div[@class='_3LWZlK _1BLPMq']\"):\n",
    "        stars.append(j.text)"
   ]
  },
  {
   "cell_type": "code",
   "execution_count": 68,
   "metadata": {},
   "outputs": [],
   "source": [
    "for k in driver.find_elements_by_xpath(\"//p[@class='_2-N8zT']\"):\n",
    "        short_review.append(k.text)"
   ]
  },
  {
   "cell_type": "code",
   "execution_count": 69,
   "metadata": {},
   "outputs": [],
   "source": [
    " for l in driver.find_elements_by_xpath(\"//div[@class='t-ZTKy']/div/div\"):\n",
    "        complete_review.append(l.text)"
   ]
  },
  {
   "cell_type": "code",
   "execution_count": 70,
   "metadata": {},
   "outputs": [],
   "source": [
    "df=pd.DataFrame({'Number of Stars': stars,\n",
    "                'Short Review': short_review,\n",
    "               'Full Review': complete_review})"
   ]
  },
  {
   "cell_type": "code",
   "execution_count": 71,
   "metadata": {},
   "outputs": [
    {
     "data": {
      "text/html": [
       "<div>\n",
       "<style scoped>\n",
       "    .dataframe tbody tr th:only-of-type {\n",
       "        vertical-align: middle;\n",
       "    }\n",
       "\n",
       "    .dataframe tbody tr th {\n",
       "        vertical-align: top;\n",
       "    }\n",
       "\n",
       "    .dataframe thead th {\n",
       "        text-align: right;\n",
       "    }\n",
       "</style>\n",
       "<table border=\"1\" class=\"dataframe\">\n",
       "  <thead>\n",
       "    <tr style=\"text-align: right;\">\n",
       "      <th></th>\n",
       "      <th>Number of Stars</th>\n",
       "      <th>Short Review</th>\n",
       "      <th>Full Review</th>\n",
       "    </tr>\n",
       "  </thead>\n",
       "  <tbody>\n",
       "    <tr>\n",
       "      <th>0</th>\n",
       "      <td>5</td>\n",
       "      <td>Brilliant</td>\n",
       "      <td>The Best Phone for the Money\\n\\nThe iPhone 11 ...</td>\n",
       "    </tr>\n",
       "    <tr>\n",
       "      <th>1</th>\n",
       "      <td>5</td>\n",
       "      <td>Perfect product!</td>\n",
       "      <td>Amazing phone with great cameras and better ba...</td>\n",
       "    </tr>\n",
       "    <tr>\n",
       "      <th>2</th>\n",
       "      <td>5</td>\n",
       "      <td>Great product</td>\n",
       "      <td>Amazing Powerful and Durable Gadget.\\n\\nI’m am...</td>\n",
       "    </tr>\n",
       "    <tr>\n",
       "      <th>3</th>\n",
       "      <td>5</td>\n",
       "      <td>Worth every penny</td>\n",
       "      <td>Previously I was using one plus 3t it was a gr...</td>\n",
       "    </tr>\n",
       "    <tr>\n",
       "      <th>4</th>\n",
       "      <td>5</td>\n",
       "      <td>Fabulous!</td>\n",
       "      <td>This is my first iOS phone. I am very happy wi...</td>\n",
       "    </tr>\n",
       "    <tr>\n",
       "      <th>5</th>\n",
       "      <td>4</td>\n",
       "      <td>Good choice</td>\n",
       "      <td>So far it’s been an AMAZING experience coming ...</td>\n",
       "    </tr>\n",
       "    <tr>\n",
       "      <th>6</th>\n",
       "      <td>5</td>\n",
       "      <td>Highly recommended</td>\n",
       "      <td>iphone 11 is a very good phone to buy only if ...</td>\n",
       "    </tr>\n",
       "    <tr>\n",
       "      <th>7</th>\n",
       "      <td>5</td>\n",
       "      <td>Perfect product!</td>\n",
       "      <td>It’s a must buy who is looking for an upgrade ...</td>\n",
       "    </tr>\n",
       "    <tr>\n",
       "      <th>8</th>\n",
       "      <td>5</td>\n",
       "      <td>Perfect product!</td>\n",
       "      <td>Value for money❤️❤️\\nIts awesome mobile phone ...</td>\n",
       "    </tr>\n",
       "    <tr>\n",
       "      <th>9</th>\n",
       "      <td>5</td>\n",
       "      <td>Highly recommended</td>\n",
       "      <td>What a camera .....just awesome ..you can feel...</td>\n",
       "    </tr>\n",
       "  </tbody>\n",
       "</table>\n",
       "</div>"
      ],
      "text/plain": [
       "  Number of Stars        Short Review  \\\n",
       "0               5           Brilliant   \n",
       "1               5    Perfect product!   \n",
       "2               5       Great product   \n",
       "3               5   Worth every penny   \n",
       "4               5           Fabulous!   \n",
       "5               4         Good choice   \n",
       "6               5  Highly recommended   \n",
       "7               5    Perfect product!   \n",
       "8               5    Perfect product!   \n",
       "9               5  Highly recommended   \n",
       "\n",
       "                                         Full Review  \n",
       "0  The Best Phone for the Money\\n\\nThe iPhone 11 ...  \n",
       "1  Amazing phone with great cameras and better ba...  \n",
       "2  Amazing Powerful and Durable Gadget.\\n\\nI’m am...  \n",
       "3  Previously I was using one plus 3t it was a gr...  \n",
       "4  This is my first iOS phone. I am very happy wi...  \n",
       "5  So far it’s been an AMAZING experience coming ...  \n",
       "6  iphone 11 is a very good phone to buy only if ...  \n",
       "7  It’s a must buy who is looking for an upgrade ...  \n",
       "8  Value for money❤️❤️\\nIts awesome mobile phone ...  \n",
       "9  What a camera .....just awesome ..you can feel...  "
      ]
     },
     "execution_count": 71,
     "metadata": {},
     "output_type": "execute_result"
    }
   ],
   "source": [
    "df"
   ]
  },
  {
   "cell_type": "code",
   "execution_count": null,
   "metadata": {},
   "outputs": [],
   "source": []
  },
  {
   "cell_type": "code",
   "execution_count": null,
   "metadata": {},
   "outputs": [],
   "source": []
  },
  {
   "cell_type": "code",
   "execution_count": null,
   "metadata": {},
   "outputs": [],
   "source": []
  },
  {
   "cell_type": "markdown",
   "metadata": {},
   "source": [
    "# 8.100 sneakers from flipkart.com"
   ]
  },
  {
   "cell_type": "code",
   "execution_count": 72,
   "metadata": {},
   "outputs": [],
   "source": [
    "driver = webdriver.Chrome('chromedriver.exe')"
   ]
  },
  {
   "cell_type": "code",
   "execution_count": 73,
   "metadata": {},
   "outputs": [],
   "source": [
    "url='https://www.flipkart.com/'\n",
    "driver.get(url)"
   ]
  },
  {
   "cell_type": "code",
   "execution_count": 74,
   "metadata": {},
   "outputs": [
    {
     "data": {
      "text/plain": [
       "<selenium.webdriver.remote.webelement.WebElement (session=\"825c01fb0d2098acfd098646a817eeb7\", element=\"113485da-d8e7-4598-80c6-f943c858e400\")>"
      ]
     },
     "execution_count": 74,
     "metadata": {},
     "output_type": "execute_result"
    }
   ],
   "source": [
    "search_prod = driver.find_element_by_xpath(\"//input[@type='text']\")\n",
    "search_prod"
   ]
  },
  {
   "cell_type": "code",
   "execution_count": 75,
   "metadata": {},
   "outputs": [],
   "source": [
    "search_prod.send_keys('sneakers')"
   ]
  },
  {
   "cell_type": "code",
   "execution_count": 76,
   "metadata": {},
   "outputs": [],
   "source": [
    "search=driver.find_element_by_xpath(\"//button[@class='L0Z3Pu']\")\n",
    "search.click()"
   ]
  },
  {
   "cell_type": "code",
   "execution_count": 77,
   "metadata": {},
   "outputs": [],
   "source": [
    "brand=[]\n",
    "description=[]\n",
    "price=[]\n",
    "discount=[]"
   ]
  },
  {
   "cell_type": "code",
   "execution_count": 78,
   "metadata": {},
   "outputs": [],
   "source": [
    "time.sleep(3)\n",
    "start=0\n",
    "end=4\n",
    "for page in range(start,end):\n",
    "    brands=driver.find_elements_by_class_name('_2WkVRV')\n",
    "    for i in brands:\n",
    "        brand.append(i.text)"
   ]
  },
  {
   "cell_type": "code",
   "execution_count": 79,
   "metadata": {},
   "outputs": [],
   "source": [
    "prices=driver.find_elements_by_xpath(\"//div[@class='_30jeq3']\")\n",
    "for i in prices:\n",
    "        price.append(i.text)"
   ]
  },
  {
   "cell_type": "code",
   "execution_count": 80,
   "metadata": {},
   "outputs": [],
   "source": [
    "disc=driver.find_elements_by_xpath(\"//div[@class='_3Ay6Sb']//span\")\n",
    "for i in disc:\n",
    "        discount.append(i.text)"
   ]
  },
  {
   "cell_type": "code",
   "execution_count": 82,
   "metadata": {},
   "outputs": [],
   "source": [
    "nxt_button=driver.find_elements_by_xpath(\"//a[@class='_1LKTO3']\")\n",
    "try:\n",
    "        driver.get(nxt_button[1].get_attribute('href'))\n",
    "except:\n",
    "        driver.get(nxt_button[0].get_attribute('href'))"
   ]
  },
  {
   "cell_type": "code",
   "execution_count": 83,
   "metadata": {},
   "outputs": [],
   "source": [
    "time.sleep(2)        \n",
    "urls = []"
   ]
  },
  {
   "cell_type": "code",
   "execution_count": 84,
   "metadata": {},
   "outputs": [],
   "source": [
    "for page in range(0,4):\n",
    "    \n",
    "    product_url = driver.find_elements_by_xpath(\"//a[@class='_2UzuFa']\")\n",
    "    for i in product_url:\n",
    "        urls.append(i.get_attribute('href'))"
   ]
  },
  {
   "cell_type": "code",
   "execution_count": 85,
   "metadata": {},
   "outputs": [],
   "source": [
    "nxt_button=driver.find_elements_by_xpath(\"//a[@class='_1LKTO3']\")\n",
    "try:\n",
    "        driver.get(nxt_button[1].get_attribute('href'))\n",
    "except:\n",
    "        driver.get(nxt_button[0].get_attribute('href'))"
   ]
  },
  {
   "cell_type": "code",
   "execution_count": 86,
   "metadata": {},
   "outputs": [],
   "source": [
    "time.sleep(2)        \n",
    "for i in urls:\n",
    "    driver.get(i)\n",
    "    desc=driver.find_elements_by_xpath('//span[@class=\"B_NuCI\"]')\n",
    "    for i in desc:\n",
    "        description.append(i.text)"
   ]
  },
  {
   "cell_type": "code",
   "execution_count": 151,
   "metadata": {},
   "outputs": [],
   "source": [
    "time.sleep(2)        \n",
    "time.sleep(3)        \n",
    "\n",
    "a=({'Brand':brand[:100],\n",
    "                'Description':description[:100],\n",
    "                'Price':price[:100],\n",
    "                'Discount':discount[:100]})"
   ]
  },
  {
   "cell_type": "code",
   "execution_count": 152,
   "metadata": {},
   "outputs": [],
   "source": [
    "df = pd.DataFrame.from_dict(a, orient='index')\n",
    "df = df.transpose()"
   ]
  },
  {
   "cell_type": "code",
   "execution_count": 153,
   "metadata": {},
   "outputs": [
    {
     "data": {
      "text/html": [
       "<div>\n",
       "<style scoped>\n",
       "    .dataframe tbody tr th:only-of-type {\n",
       "        vertical-align: middle;\n",
       "    }\n",
       "\n",
       "    .dataframe tbody tr th {\n",
       "        vertical-align: top;\n",
       "    }\n",
       "\n",
       "    .dataframe thead th {\n",
       "        text-align: right;\n",
       "    }\n",
       "</style>\n",
       "<table border=\"1\" class=\"dataframe\">\n",
       "  <thead>\n",
       "    <tr style=\"text-align: right;\">\n",
       "      <th></th>\n",
       "      <th>Brand</th>\n",
       "      <th>Description</th>\n",
       "      <th>Price</th>\n",
       "      <th>Discount</th>\n",
       "    </tr>\n",
       "  </thead>\n",
       "  <tbody>\n",
       "    <tr>\n",
       "      <th>0</th>\n",
       "      <td>Chevit</td>\n",
       "      <td>White Sneakers Sneakers For Men  (White)</td>\n",
       "      <td>53,990</td>\n",
       "      <td>76% off</td>\n",
       "    </tr>\n",
       "    <tr>\n",
       "      <th>1</th>\n",
       "      <td>ADIDAS</td>\n",
       "      <td>Sneakers For Men  (White)</td>\n",
       "      <td>74,990</td>\n",
       "      <td>52% off</td>\n",
       "    </tr>\n",
       "    <tr>\n",
       "      <th>2</th>\n",
       "      <td>CALCADOS</td>\n",
       "      <td>Men's Combo Pack of 02 Shoes for Men Casual Sn...</td>\n",
       "      <td>25,990</td>\n",
       "      <td>62% off</td>\n",
       "    </tr>\n",
       "    <tr>\n",
       "      <th>3</th>\n",
       "      <td>Alfiya</td>\n",
       "      <td>Combo Pack Of 3 Sneakers For Men  (Black, Yellow)</td>\n",
       "      <td>27,904</td>\n",
       "      <td>62% off</td>\n",
       "    </tr>\n",
       "    <tr>\n",
       "      <th>4</th>\n",
       "      <td>India hub</td>\n",
       "      <td>Sneakers For Men  (White, Black)</td>\n",
       "      <td>3,231</td>\n",
       "      <td>87% off</td>\n",
       "    </tr>\n",
       "    <tr>\n",
       "      <th>...</th>\n",
       "      <td>...</td>\n",
       "      <td>...</td>\n",
       "      <td>...</td>\n",
       "      <td>...</td>\n",
       "    </tr>\n",
       "    <tr>\n",
       "      <th>95</th>\n",
       "      <td>Numenzo</td>\n",
       "      <td>Perfect &amp; Affordable Combo Pack of 02 Pairs Sn...</td>\n",
       "      <td>None</td>\n",
       "      <td>None</td>\n",
       "    </tr>\n",
       "    <tr>\n",
       "      <th>96</th>\n",
       "      <td>Stefano Rads</td>\n",
       "      <td>1002 Sneakers For Men  (White)</td>\n",
       "      <td>None</td>\n",
       "      <td>None</td>\n",
       "    </tr>\n",
       "    <tr>\n",
       "      <th>97</th>\n",
       "      <td>Kraasa</td>\n",
       "      <td>Sneakers For Men  (White)</td>\n",
       "      <td>None</td>\n",
       "      <td>None</td>\n",
       "    </tr>\n",
       "    <tr>\n",
       "      <th>98</th>\n",
       "      <td>SCATCHITE</td>\n",
       "      <td>Premium quality Sneakers For Men  (Blue)</td>\n",
       "      <td>None</td>\n",
       "      <td>None</td>\n",
       "    </tr>\n",
       "    <tr>\n",
       "      <th>99</th>\n",
       "      <td>Absolute comfort</td>\n",
       "      <td>Casual Sneakers Black Shoes For Men Sneakers F...</td>\n",
       "      <td>None</td>\n",
       "      <td>None</td>\n",
       "    </tr>\n",
       "  </tbody>\n",
       "</table>\n",
       "<p>100 rows × 4 columns</p>\n",
       "</div>"
      ],
      "text/plain": [
       "               Brand                                        Description  \\\n",
       "0             Chevit           White Sneakers Sneakers For Men  (White)   \n",
       "1             ADIDAS                          Sneakers For Men  (White)   \n",
       "2           CALCADOS  Men's Combo Pack of 02 Shoes for Men Casual Sn...   \n",
       "3             Alfiya  Combo Pack Of 3 Sneakers For Men  (Black, Yellow)   \n",
       "4          India hub                   Sneakers For Men  (White, Black)   \n",
       "..               ...                                                ...   \n",
       "95           Numenzo  Perfect & Affordable Combo Pack of 02 Pairs Sn...   \n",
       "96      Stefano Rads                     1002 Sneakers For Men  (White)   \n",
       "97            Kraasa                          Sneakers For Men  (White)   \n",
       "98         SCATCHITE           Premium quality Sneakers For Men  (Blue)   \n",
       "99  Absolute comfort  Casual Sneakers Black Shoes For Men Sneakers F...   \n",
       "\n",
       "     Price Discount  \n",
       "0   53,990  76% off  \n",
       "1   74,990  52% off  \n",
       "2   25,990  62% off  \n",
       "3   27,904  62% off  \n",
       "4    3,231  87% off  \n",
       "..     ...      ...  \n",
       "95    None     None  \n",
       "96    None     None  \n",
       "97    None     None  \n",
       "98    None     None  \n",
       "99    None     None  \n",
       "\n",
       "[100 rows x 4 columns]"
      ]
     },
     "execution_count": 153,
     "metadata": {},
     "output_type": "execute_result"
    }
   ],
   "source": [
    "df"
   ]
  },
  {
   "cell_type": "code",
   "execution_count": null,
   "metadata": {},
   "outputs": [],
   "source": []
  },
  {
   "cell_type": "code",
   "execution_count": null,
   "metadata": {},
   "outputs": [],
   "source": []
  },
  {
   "cell_type": "code",
   "execution_count": null,
   "metadata": {},
   "outputs": [],
   "source": []
  },
  {
   "cell_type": "code",
   "execution_count": null,
   "metadata": {},
   "outputs": [],
   "source": []
  },
  {
   "cell_type": "code",
   "execution_count": null,
   "metadata": {},
   "outputs": [],
   "source": []
  },
  {
   "cell_type": "code",
   "execution_count": null,
   "metadata": {},
   "outputs": [],
   "source": []
  },
  {
   "cell_type": "markdown",
   "metadata": {},
   "source": [
    "# 9. 100 shoes data from myntra"
   ]
  },
  {
   "cell_type": "code",
   "execution_count": 90,
   "metadata": {},
   "outputs": [],
   "source": [
    "driver = webdriver.Chrome('chromedriver.exe')"
   ]
  },
  {
   "cell_type": "code",
   "execution_count": 91,
   "metadata": {},
   "outputs": [],
   "source": [
    "url=\"https://www.myntra.com/shoes%22\"\n",
    "driver.get(url)"
   ]
  },
  {
   "cell_type": "code",
   "execution_count": 92,
   "metadata": {},
   "outputs": [],
   "source": [
    "time.sleep(2)\n",
    "price_button = driver.find_element_by_xpath(\"/html/body/div[2]/div/div[1]/main/div[3]/div[1]/section/div/div[5]/ul/li[2]/label/div\")\n",
    "price_button.click()"
   ]
  },
  {
   "cell_type": "code",
   "execution_count": 93,
   "metadata": {},
   "outputs": [],
   "source": [
    "black_color_button = driver.find_element_by_xpath(\"/html/body/div[2]/div/div[1]/main/div[3]/div[1]/section/div/div[6]/ul/li[1]/label/div\")\n",
    "black_color_button.click()"
   ]
  },
  {
   "cell_type": "code",
   "execution_count": 94,
   "metadata": {},
   "outputs": [],
   "source": [
    "shoe_names=[]\n",
    "s_desc=[]\n",
    "short_desc=[]\n",
    "price=[]\n",
    "page_urls = []\n"
   ]
  },
  {
   "cell_type": "code",
   "execution_count": 95,
   "metadata": {},
   "outputs": [],
   "source": [
    "time.sleep(4)\n",
    "nxt_page = driver.find_elements_by_xpath(\"//li[@class='pagination-number']/a\")\n",
    "for i in nxt_page:\n",
    "    page_urls.append(i.get_attribute('href'))"
   ]
  },
  {
   "cell_type": "code",
   "execution_count": 97,
   "metadata": {},
   "outputs": [],
   "source": [
    "for url in page_urls[:3]:\n",
    "    driver.get(url)\n",
    "    Names=driver.find_elements_by_xpath(\"//div[@class='product-productMetaInfo']/h3\")  \n",
    "    for i in Names:\n",
    "        shoe_names.append(i.text)"
   ]
  },
  {
   "cell_type": "code",
   "execution_count": 98,
   "metadata": {},
   "outputs": [],
   "source": [
    "desc=driver.find_elements_by_xpath(\"//div[@class='product-productMetaInfo']/h4\") \n",
    "for i in desc:\n",
    "        s_desc.append(i.text)\n",
    "for j in range(0,len(s_desc),2):\n",
    "        short_desc.append(s_desc[j])"
   ]
  },
  {
   "cell_type": "code",
   "execution_count": 100,
   "metadata": {},
   "outputs": [],
   "source": [
    "rs=driver.find_elements_by_xpath(\"//div[@class='product-price']\") \n",
    "for i in rs:\n",
    "        price.append(i.text)    \n",
    "        "
   ]
  },
  {
   "cell_type": "code",
   "execution_count": 157,
   "metadata": {},
   "outputs": [],
   "source": [
    "a=({'Brand': shoe_names[:100],'Short-description': short_desc[:100],'Price': price[:100]})"
   ]
  },
  {
   "cell_type": "code",
   "execution_count": 158,
   "metadata": {},
   "outputs": [],
   "source": [
    "df = pd.DataFrame.from_dict(a, orient='index')\n",
    "df = df.transpose()"
   ]
  },
  {
   "cell_type": "code",
   "execution_count": 159,
   "metadata": {},
   "outputs": [
    {
     "data": {
      "text/html": [
       "<div>\n",
       "<style scoped>\n",
       "    .dataframe tbody tr th:only-of-type {\n",
       "        vertical-align: middle;\n",
       "    }\n",
       "\n",
       "    .dataframe tbody tr th {\n",
       "        vertical-align: top;\n",
       "    }\n",
       "\n",
       "    .dataframe thead th {\n",
       "        text-align: right;\n",
       "    }\n",
       "</style>\n",
       "<table border=\"1\" class=\"dataframe\">\n",
       "  <thead>\n",
       "    <tr style=\"text-align: right;\">\n",
       "      <th></th>\n",
       "      <th>Brand</th>\n",
       "      <th>Short-description</th>\n",
       "      <th>Price</th>\n",
       "    </tr>\n",
       "  </thead>\n",
       "  <tbody>\n",
       "    <tr>\n",
       "      <th>0</th>\n",
       "      <td>UNDER ARMOUR</td>\n",
       "      <td>HOVR Infinite 2 Running Shoes</td>\n",
       "      <td>53,990</td>\n",
       "    </tr>\n",
       "    <tr>\n",
       "      <th>1</th>\n",
       "      <td>Bugatti</td>\n",
       "      <td>Unisex KING Pro Football Shoes</td>\n",
       "      <td>74,990</td>\n",
       "    </tr>\n",
       "    <tr>\n",
       "      <th>2</th>\n",
       "      <td>Hush Puppies</td>\n",
       "      <td>Women HOVR Infinite 2 Running</td>\n",
       "      <td>25,990</td>\n",
       "    </tr>\n",
       "    <tr>\n",
       "      <th>3</th>\n",
       "      <td>Heel &amp; Buckle London</td>\n",
       "      <td>Men Leather Derbys</td>\n",
       "      <td>27,904</td>\n",
       "    </tr>\n",
       "    <tr>\n",
       "      <th>4</th>\n",
       "      <td>ALDO</td>\n",
       "      <td>Women Leather Block Heels</td>\n",
       "      <td>3,231</td>\n",
       "    </tr>\n",
       "    <tr>\n",
       "      <th>...</th>\n",
       "      <td>...</td>\n",
       "      <td>...</td>\n",
       "      <td>...</td>\n",
       "    </tr>\n",
       "    <tr>\n",
       "      <th>95</th>\n",
       "      <td>ALDO</td>\n",
       "      <td>None</td>\n",
       "      <td>None</td>\n",
       "    </tr>\n",
       "    <tr>\n",
       "      <th>96</th>\n",
       "      <td>Bugatti</td>\n",
       "      <td>None</td>\n",
       "      <td>None</td>\n",
       "    </tr>\n",
       "    <tr>\n",
       "      <th>97</th>\n",
       "      <td>Puma</td>\n",
       "      <td>None</td>\n",
       "      <td>None</td>\n",
       "    </tr>\n",
       "    <tr>\n",
       "      <th>98</th>\n",
       "      <td>Saint G</td>\n",
       "      <td>None</td>\n",
       "      <td>None</td>\n",
       "    </tr>\n",
       "    <tr>\n",
       "      <th>99</th>\n",
       "      <td>Puma</td>\n",
       "      <td>None</td>\n",
       "      <td>None</td>\n",
       "    </tr>\n",
       "  </tbody>\n",
       "</table>\n",
       "<p>100 rows × 3 columns</p>\n",
       "</div>"
      ],
      "text/plain": [
       "                   Brand               Short-description   Price\n",
       "0           UNDER ARMOUR   HOVR Infinite 2 Running Shoes  53,990\n",
       "1                Bugatti  Unisex KING Pro Football Shoes  74,990\n",
       "2           Hush Puppies   Women HOVR Infinite 2 Running  25,990\n",
       "3   Heel & Buckle London              Men Leather Derbys  27,904\n",
       "4                   ALDO       Women Leather Block Heels   3,231\n",
       "..                   ...                             ...     ...\n",
       "95                  ALDO                            None    None\n",
       "96               Bugatti                            None    None\n",
       "97                  Puma                            None    None\n",
       "98               Saint G                            None    None\n",
       "99                  Puma                            None    None\n",
       "\n",
       "[100 rows x 3 columns]"
      ]
     },
     "execution_count": 159,
     "metadata": {},
     "output_type": "execute_result"
    }
   ],
   "source": [
    "df"
   ]
  },
  {
   "cell_type": "code",
   "execution_count": null,
   "metadata": {},
   "outputs": [],
   "source": []
  },
  {
   "cell_type": "code",
   "execution_count": null,
   "metadata": {},
   "outputs": [],
   "source": []
  },
  {
   "cell_type": "code",
   "execution_count": null,
   "metadata": {},
   "outputs": [],
   "source": []
  },
  {
   "cell_type": "code",
   "execution_count": null,
   "metadata": {},
   "outputs": [],
   "source": []
  },
  {
   "cell_type": "code",
   "execution_count": null,
   "metadata": {},
   "outputs": [],
   "source": []
  },
  {
   "cell_type": "markdown",
   "metadata": {},
   "source": [
    "# 10.10 laptops data from amazonn"
   ]
  },
  {
   "cell_type": "code",
   "execution_count": 122,
   "metadata": {},
   "outputs": [],
   "source": [
    "driver = webdriver.Chrome('chromedriver.exe')"
   ]
  },
  {
   "cell_type": "code",
   "execution_count": 123,
   "metadata": {},
   "outputs": [],
   "source": [
    "url='https://www.amazon.in/'\n",
    "driver.get(url)"
   ]
  },
  {
   "cell_type": "code",
   "execution_count": 124,
   "metadata": {},
   "outputs": [
    {
     "data": {
      "text/plain": [
       "<selenium.webdriver.remote.webelement.WebElement (session=\"3cc2cba1ade871d8a2e4131bf5a9666d\", element=\"e2bd50f3-43b6-4dd5-848a-e8d5b461d8f9\")>"
      ]
     },
     "execution_count": 124,
     "metadata": {},
     "output_type": "execute_result"
    }
   ],
   "source": [
    "search_prod = driver.find_element_by_id('twotabsearchtextbox')\n",
    "search_prod"
   ]
  },
  {
   "cell_type": "code",
   "execution_count": 125,
   "metadata": {},
   "outputs": [],
   "source": [
    "search_prod.send_keys('Laptop')"
   ]
  },
  {
   "cell_type": "code",
   "execution_count": 126,
   "metadata": {},
   "outputs": [],
   "source": [
    "search_btn = driver.find_element_by_id('nav-search-submit-button')\n",
    "search_btn.click()"
   ]
  },
  {
   "cell_type": "code",
   "execution_count": 129,
   "metadata": {},
   "outputs": [],
   "source": [
    "Title=[]\n",
    "Ratings=[]\n",
    "price=[]"
   ]
  },
  {
   "cell_type": "code",
   "execution_count": 130,
   "metadata": {},
   "outputs": [],
   "source": [
    "time.sleep(2)\n",
    "filter_button=driver.find_elements_by_xpath(\"//a[@class='a-link-normal s-navigation-item']/span\")\n",
    "for i in filter_button:\n",
    "    if i.text=='Intel Core i7':\n",
    "        i.click()\n",
    "        break"
   ]
  },
  {
   "cell_type": "code",
   "execution_count": 131,
   "metadata": {},
   "outputs": [],
   "source": [
    "titles=driver.find_elements_by_xpath(\"//span[@class='a-size-medium a-color-base a-text-normal']\")\n",
    "for i in titles[:10]:\n",
    "    Title.append(i.text)"
   ]
  },
  {
   "cell_type": "code",
   "execution_count": 132,
   "metadata": {},
   "outputs": [],
   "source": [
    "prices=driver.find_elements_by_xpath(\"//span[@class='a-price-whole']\")\n",
    "for i in prices[:10]:\n",
    "    price.append(i.text)"
   ]
  },
  {
   "cell_type": "code",
   "execution_count": 136,
   "metadata": {},
   "outputs": [],
   "source": [
    "urls=driver.find_elements_by_xpath(\"//a[@class='a-link-normal a-text-normal']\")\n",
    "UR=[]\n",
    "for i in urls[:10]:\n",
    "    UR.append(i.get_attribute('href'))\n",
    "       "
   ]
  },
  {
   "cell_type": "code",
   "execution_count": 150,
   "metadata": {},
   "outputs": [],
   "source": [
    "for url in UR:\n",
    "    driver.get(url)"
   ]
  },
  {
   "cell_type": "code",
   "execution_count": 140,
   "metadata": {},
   "outputs": [],
   "source": [
    "rating=driver.find_element_by_xpath(\"//span[@class='a-size-base a-nowrap']//span\")\n",
    "Ratings.append(rating.text)"
   ]
  },
  {
   "cell_type": "code",
   "execution_count": 148,
   "metadata": {},
   "outputs": [
    {
     "name": "stdout",
     "output_type": "stream",
     "text": [
      "10 (10, 1)\n"
     ]
    }
   ],
   "source": [
    "print(len(Title),(len(price),len(Ratings)))"
   ]
  },
  {
   "cell_type": "code",
   "execution_count": 160,
   "metadata": {},
   "outputs": [],
   "source": [
    "a=({'Title':Title,'Price':price,'Ratings':Ratings})"
   ]
  },
  {
   "cell_type": "code",
   "execution_count": 161,
   "metadata": {},
   "outputs": [],
   "source": [
    "df = pd.DataFrame.from_dict(a, orient='index')\n",
    "df = df.transpose()"
   ]
  },
  {
   "cell_type": "code",
   "execution_count": 162,
   "metadata": {},
   "outputs": [
    {
     "data": {
      "text/html": [
       "<div>\n",
       "<style scoped>\n",
       "    .dataframe tbody tr th:only-of-type {\n",
       "        vertical-align: middle;\n",
       "    }\n",
       "\n",
       "    .dataframe tbody tr th {\n",
       "        vertical-align: top;\n",
       "    }\n",
       "\n",
       "    .dataframe thead th {\n",
       "        text-align: right;\n",
       "    }\n",
       "</style>\n",
       "<table border=\"1\" class=\"dataframe\">\n",
       "  <thead>\n",
       "    <tr style=\"text-align: right;\">\n",
       "      <th></th>\n",
       "      <th>Title</th>\n",
       "      <th>Price</th>\n",
       "      <th>Ratings</th>\n",
       "    </tr>\n",
       "  </thead>\n",
       "  <tbody>\n",
       "    <tr>\n",
       "      <th>0</th>\n",
       "      <td>Lenovo ThinkPad E14 (2021) AMD Ryzen 5 4650U P...</td>\n",
       "      <td>53,990</td>\n",
       "      <td>3.3 out of 5</td>\n",
       "    </tr>\n",
       "    <tr>\n",
       "      <th>1</th>\n",
       "      <td>Lenovo Legion 5 10th Gen Intel Core i5 15.6 in...</td>\n",
       "      <td>74,990</td>\n",
       "      <td>None</td>\n",
       "    </tr>\n",
       "    <tr>\n",
       "      <th>2</th>\n",
       "      <td>HP 15 Entry Level 15.6-inch (39.62 cms) HD Lap...</td>\n",
       "      <td>25,990</td>\n",
       "      <td>None</td>\n",
       "    </tr>\n",
       "    <tr>\n",
       "      <th>3</th>\n",
       "      <td>HP 15 Intel Pentium Gold 6405U Processor Entry...</td>\n",
       "      <td>27,904</td>\n",
       "      <td>None</td>\n",
       "    </tr>\n",
       "    <tr>\n",
       "      <th>4</th>\n",
       "      <td>Lenovo IdeaPad Slim 3 Intel Celeron N4020 15.6...</td>\n",
       "      <td>3,231</td>\n",
       "      <td>None</td>\n",
       "    </tr>\n",
       "    <tr>\n",
       "      <th>5</th>\n",
       "      <td>Hammonds Flycatcher Genuine Leather Black 15.6...</td>\n",
       "      <td>26,562</td>\n",
       "      <td>None</td>\n",
       "    </tr>\n",
       "    <tr>\n",
       "      <th>6</th>\n",
       "      <td>Lenovo V15 AMD 15.6-inch FHD Thin and Light La...</td>\n",
       "      <td>19,990</td>\n",
       "      <td>None</td>\n",
       "    </tr>\n",
       "    <tr>\n",
       "      <th>7</th>\n",
       "      <td>(Renewed) Fujitsu Intel Core i5 3340M 15.6-Inc...</td>\n",
       "      <td>27,490</td>\n",
       "      <td>None</td>\n",
       "    </tr>\n",
       "    <tr>\n",
       "      <th>8</th>\n",
       "      <td>Lenovo Ideapad Slim 3 Intel Celeron N4020 15.6...</td>\n",
       "      <td>30,890</td>\n",
       "      <td>None</td>\n",
       "    </tr>\n",
       "    <tr>\n",
       "      <th>9</th>\n",
       "      <td>Lenovo Ideapad S145 AMD Ryzen 3 3200U 15.6 inc...</td>\n",
       "      <td>25,950</td>\n",
       "      <td>None</td>\n",
       "    </tr>\n",
       "  </tbody>\n",
       "</table>\n",
       "</div>"
      ],
      "text/plain": [
       "                                               Title   Price       Ratings\n",
       "0  Lenovo ThinkPad E14 (2021) AMD Ryzen 5 4650U P...  53,990  3.3 out of 5\n",
       "1  Lenovo Legion 5 10th Gen Intel Core i5 15.6 in...  74,990          None\n",
       "2  HP 15 Entry Level 15.6-inch (39.62 cms) HD Lap...  25,990          None\n",
       "3  HP 15 Intel Pentium Gold 6405U Processor Entry...  27,904          None\n",
       "4  Lenovo IdeaPad Slim 3 Intel Celeron N4020 15.6...   3,231          None\n",
       "5  Hammonds Flycatcher Genuine Leather Black 15.6...  26,562          None\n",
       "6  Lenovo V15 AMD 15.6-inch FHD Thin and Light La...  19,990          None\n",
       "7  (Renewed) Fujitsu Intel Core i5 3340M 15.6-Inc...  27,490          None\n",
       "8  Lenovo Ideapad Slim 3 Intel Celeron N4020 15.6...  30,890          None\n",
       "9  Lenovo Ideapad S145 AMD Ryzen 3 3200U 15.6 inc...  25,950          None"
      ]
     },
     "execution_count": 162,
     "metadata": {},
     "output_type": "execute_result"
    }
   ],
   "source": [
    "df"
   ]
  },
  {
   "cell_type": "code",
   "execution_count": null,
   "metadata": {},
   "outputs": [],
   "source": []
  }
 ],
 "metadata": {
  "kernelspec": {
   "display_name": "Python 3",
   "language": "python",
   "name": "python3"
  },
  "language_info": {
   "codemirror_mode": {
    "name": "ipython",
    "version": 3
   },
   "file_extension": ".py",
   "mimetype": "text/x-python",
   "name": "python",
   "nbconvert_exporter": "python",
   "pygments_lexer": "ipython3",
   "version": "3.8.5"
  }
 },
 "nbformat": 4,
 "nbformat_minor": 4
}
